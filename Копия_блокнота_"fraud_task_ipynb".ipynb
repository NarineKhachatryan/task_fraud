{
  "nbformat": 4,
  "nbformat_minor": 0,
  "metadata": {
    "colab": {
      "name": "Копия блокнота \"fraud_task.ipynb\"",
      "provenance": [],
      "collapsed_sections": [],
      "authorship_tag": "ABX9TyOmeBxMmhzKq3JnmYhiRodb",
      "include_colab_link": true
    },
    "kernelspec": {
      "display_name": "Python 3",
      "name": "python3"
    },
    "language_info": {
      "name": "python"
    }
  },
  "cells": [
    {
      "cell_type": "markdown",
      "metadata": {
        "id": "view-in-github",
        "colab_type": "text"
      },
      "source": [
        "<a href=\"https://colab.research.google.com/github/NarineKhachatryan/task_fraud/blob/main/%D0%9A%D0%BE%D0%BF%D0%B8%D1%8F_%D0%B1%D0%BB%D0%BE%D0%BA%D0%BD%D0%BE%D1%82%D0%B0_%22fraud_task_ipynb%22.ipynb\" target=\"_parent\"><img src=\"https://colab.research.google.com/assets/colab-badge.svg\" alt=\"Open In Colab\"/></a>"
      ]
    },
    {
      "cell_type": "code",
      "metadata": {
        "id": "h-refAygTFwB"
      },
      "source": [
        "import numpy as np\n",
        "import pandas as pd\n",
        "import matplotlib.pyplot as plt\n",
        "\n"
      ],
      "execution_count": null,
      "outputs": []
    },
    {
      "cell_type": "code",
      "metadata": {
        "id": "kWDum_uZYRJP"
      },
      "source": [
        "df1=pd.read_csv(\"fraud_profile.csv\")"
      ],
      "execution_count": null,
      "outputs": []
    },
    {
      "cell_type": "code",
      "metadata": {
        "colab": {
          "base_uri": "https://localhost:8080/",
          "height": 204
        },
        "id": "6jx2Y6pEZi0I",
        "outputId": "24ae3bde-3a2b-47c0-ec8b-2e132fdad9fa"
      },
      "source": [
        "\n",
        "df1.head()"
      ],
      "execution_count": null,
      "outputs": [
        {
          "output_type": "execute_result",
          "data": {
            "text/html": [
              "<div>\n",
              "<style scoped>\n",
              "    .dataframe tbody tr th:only-of-type {\n",
              "        vertical-align: middle;\n",
              "    }\n",
              "\n",
              "    .dataframe tbody tr th {\n",
              "        vertical-align: top;\n",
              "    }\n",
              "\n",
              "    .dataframe thead th {\n",
              "        text-align: right;\n",
              "    }\n",
              "</style>\n",
              "<table border=\"1\" class=\"dataframe\">\n",
              "  <thead>\n",
              "    <tr style=\"text-align: right;\">\n",
              "      <th></th>\n",
              "      <th>user</th>\n",
              "      <th>fraud</th>\n",
              "      <th>email_domain</th>\n",
              "      <th>ip_asn</th>\n",
              "      <th>signup_datetime</th>\n",
              "      <th>gender</th>\n",
              "      <th>marital</th>\n",
              "      <th>employment</th>\n",
              "      <th>pet</th>\n",
              "    </tr>\n",
              "  </thead>\n",
              "  <tbody>\n",
              "    <tr>\n",
              "      <th>0</th>\n",
              "      <td>1000000</td>\n",
              "      <td>0</td>\n",
              "      <td>c</td>\n",
              "      <td>11202</td>\n",
              "      <td>2020-05-03 17:29:33</td>\n",
              "      <td>1.0</td>\n",
              "      <td>Married</td>\n",
              "      <td>i</td>\n",
              "      <td>['No pets']</td>\n",
              "    </tr>\n",
              "    <tr>\n",
              "      <th>1</th>\n",
              "      <td>1000015</td>\n",
              "      <td>0</td>\n",
              "      <td>f</td>\n",
              "      <td>11202</td>\n",
              "      <td>2020-05-03 17:32:33</td>\n",
              "      <td>1.0</td>\n",
              "      <td>Married</td>\n",
              "      <td>d</td>\n",
              "      <td>['Cat']</td>\n",
              "    </tr>\n",
              "    <tr>\n",
              "      <th>2</th>\n",
              "      <td>1000019</td>\n",
              "      <td>0</td>\n",
              "      <td>c</td>\n",
              "      <td>11202</td>\n",
              "      <td>2020-05-03 17:33:52</td>\n",
              "      <td>1.0</td>\n",
              "      <td>Single</td>\n",
              "      <td>f</td>\n",
              "      <td>['No pets']</td>\n",
              "    </tr>\n",
              "    <tr>\n",
              "      <th>3</th>\n",
              "      <td>1000045</td>\n",
              "      <td>0</td>\n",
              "      <td>c</td>\n",
              "      <td>11202</td>\n",
              "      <td>2020-05-03 17:37:58</td>\n",
              "      <td>1.0</td>\n",
              "      <td>Married</td>\n",
              "      <td>f</td>\n",
              "      <td>['No pets']</td>\n",
              "    </tr>\n",
              "    <tr>\n",
              "      <th>4</th>\n",
              "      <td>1000076</td>\n",
              "      <td>0</td>\n",
              "      <td>c</td>\n",
              "      <td>11202</td>\n",
              "      <td>2020-05-03 17:42:42</td>\n",
              "      <td>0.0</td>\n",
              "      <td>Single</td>\n",
              "      <td>b</td>\n",
              "      <td>['No pets']</td>\n",
              "    </tr>\n",
              "  </tbody>\n",
              "</table>\n",
              "</div>"
            ],
            "text/plain": [
              "      user  fraud email_domain  ip_asn  ... gender  marital employment          pet\n",
              "0  1000000      0            c   11202  ...    1.0  Married          i  ['No pets']\n",
              "1  1000015      0            f   11202  ...    1.0  Married          d      ['Cat']\n",
              "2  1000019      0            c   11202  ...    1.0   Single          f  ['No pets']\n",
              "3  1000045      0            c   11202  ...    1.0  Married          f  ['No pets']\n",
              "4  1000076      0            c   11202  ...    0.0   Single          b  ['No pets']\n",
              "\n",
              "[5 rows x 9 columns]"
            ]
          },
          "metadata": {
            "tags": []
          },
          "execution_count": 4
        }
      ]
    },
    {
      "cell_type": "code",
      "metadata": {
        "colab": {
          "base_uri": "https://localhost:8080/"
        },
        "id": "XWIq94jmFE9e",
        "outputId": "cd0d9f0a-a3b8-4672-f2d3-be01c1a7d70c"
      },
      "source": [
        "df1['fraud'].value_counts()# not balanced"
      ],
      "execution_count": null,
      "outputs": [
        {
          "output_type": "execute_result",
          "data": {
            "text/plain": [
              "0    62311\n",
              "1     7972\n",
              "Name: fraud, dtype: int64"
            ]
          },
          "metadata": {
            "tags": []
          },
          "execution_count": 5
        }
      ]
    },
    {
      "cell_type": "code",
      "metadata": {
        "colab": {
          "base_uri": "https://localhost:8080/"
        },
        "id": "kebkineBJbAJ",
        "outputId": "e10a5de5-395a-4ddd-c5a4-71c24b64f33d"
      },
      "source": [
        "(7972/62311)*100"
      ],
      "execution_count": null,
      "outputs": [
        {
          "output_type": "execute_result",
          "data": {
            "text/plain": [
              "12.79388871948773"
            ]
          },
          "metadata": {
            "tags": []
          },
          "execution_count": 6
        }
      ]
    },
    {
      "cell_type": "code",
      "metadata": {
        "colab": {
          "base_uri": "https://localhost:8080/"
        },
        "id": "3y9qvaGdbC3K",
        "outputId": "2654359b-f575-4d13-c763-01062820b399"
      },
      "source": [
        "\n",
        "df1.info()"
      ],
      "execution_count": null,
      "outputs": [
        {
          "output_type": "stream",
          "text": [
            "<class 'pandas.core.frame.DataFrame'>\n",
            "RangeIndex: 70283 entries, 0 to 70282\n",
            "Data columns (total 9 columns):\n",
            " #   Column           Non-Null Count  Dtype  \n",
            "---  ------           --------------  -----  \n",
            " 0   user             70283 non-null  int64  \n",
            " 1   fraud            70283 non-null  int64  \n",
            " 2   email_domain     70283 non-null  object \n",
            " 3   ip_asn           70283 non-null  int64  \n",
            " 4   signup_datetime  70283 non-null  object \n",
            " 5   gender           70021 non-null  float64\n",
            " 6   marital          70282 non-null  object \n",
            " 7   employment       70272 non-null  object \n",
            " 8   pet              70271 non-null  object \n",
            "dtypes: float64(1), int64(3), object(5)\n",
            "memory usage: 4.8+ MB\n"
          ],
          "name": "stdout"
        }
      ]
    },
    {
      "cell_type": "code",
      "metadata": {
        "colab": {
          "base_uri": "https://localhost:8080/"
        },
        "id": "PtAxFShRZtbS",
        "outputId": "84897fbc-685f-4dd6-8f9e-29892bc98544"
      },
      "source": [
        "df1.nunique()"
      ],
      "execution_count": null,
      "outputs": [
        {
          "output_type": "execute_result",
          "data": {
            "text/plain": [
              "user               70279\n",
              "fraud                  2\n",
              "email_domain           7\n",
              "ip_asn              2133\n",
              "signup_datetime    66719\n",
              "gender                 2\n",
              "marital                3\n",
              "employment            11\n",
              "pet                  606\n",
              "dtype: int64"
            ]
          },
          "metadata": {
            "tags": []
          },
          "execution_count": 8
        }
      ]
    },
    {
      "cell_type": "code",
      "metadata": {
        "colab": {
          "base_uri": "https://localhost:8080/"
        },
        "id": "hv1RFjP8ZwGu",
        "outputId": "725c7c7d-923f-4d81-beb0-4047355e0a96"
      },
      "source": [
        "\n",
        "df1.isna().sum()"
      ],
      "execution_count": null,
      "outputs": [
        {
          "output_type": "execute_result",
          "data": {
            "text/plain": [
              "user                 0\n",
              "fraud                0\n",
              "email_domain         0\n",
              "ip_asn               0\n",
              "signup_datetime      0\n",
              "gender             262\n",
              "marital              1\n",
              "employment          11\n",
              "pet                 12\n",
              "dtype: int64"
            ]
          },
          "metadata": {
            "tags": []
          },
          "execution_count": 9
        }
      ]
    },
    {
      "cell_type": "code",
      "metadata": {
        "id": "5mAb_G-8Z2RO"
      },
      "source": [
        "\n",
        "df2=pd.read_csv(\"fraud_behavior.csv\")"
      ],
      "execution_count": null,
      "outputs": []
    },
    {
      "cell_type": "code",
      "metadata": {
        "colab": {
          "base_uri": "https://localhost:8080/",
          "height": 309
        },
        "id": "9a1OtcALaMPa",
        "outputId": "3952b1d2-d493-44ae-cf85-57e5ecbebf2e"
      },
      "source": [
        "df2.head()"
      ],
      "execution_count": null,
      "outputs": [
        {
          "output_type": "execute_result",
          "data": {
            "text/html": [
              "<div>\n",
              "<style scoped>\n",
              "    .dataframe tbody tr th:only-of-type {\n",
              "        vertical-align: middle;\n",
              "    }\n",
              "\n",
              "    .dataframe tbody tr th {\n",
              "        vertical-align: top;\n",
              "    }\n",
              "\n",
              "    .dataframe thead th {\n",
              "        text-align: right;\n",
              "    }\n",
              "</style>\n",
              "<table border=\"1\" class=\"dataframe\">\n",
              "  <thead>\n",
              "    <tr style=\"text-align: right;\">\n",
              "      <th></th>\n",
              "      <th>user</th>\n",
              "      <th>click_time</th>\n",
              "      <th>length_of_activity_in_minutes</th>\n",
              "      <th>promised_reward</th>\n",
              "      <th>ip_asn</th>\n",
              "      <th>postback_time</th>\n",
              "      <th>activity_status</th>\n",
              "      <th>gained_reward</th>\n",
              "    </tr>\n",
              "  </thead>\n",
              "  <tbody>\n",
              "    <tr>\n",
              "      <th>0</th>\n",
              "      <td>1000000</td>\n",
              "      <td>2020-05-03 17:33:15</td>\n",
              "      <td>25.0</td>\n",
              "      <td>12300.0</td>\n",
              "      <td>11202.0</td>\n",
              "      <td>2020-05-03 17:33:50</td>\n",
              "      <td>rejection_type_2</td>\n",
              "      <td>369.0</td>\n",
              "    </tr>\n",
              "    <tr>\n",
              "      <th>1</th>\n",
              "      <td>1000000</td>\n",
              "      <td>2020-05-03 17:33:50</td>\n",
              "      <td>25.0</td>\n",
              "      <td>12300.0</td>\n",
              "      <td>11202.0</td>\n",
              "      <td>NaN</td>\n",
              "      <td>NaN</td>\n",
              "      <td>NaN</td>\n",
              "    </tr>\n",
              "    <tr>\n",
              "      <th>2</th>\n",
              "      <td>1000002</td>\n",
              "      <td>2020-05-03 17:34:02</td>\n",
              "      <td>25.0</td>\n",
              "      <td>12300.0</td>\n",
              "      <td>11678.0</td>\n",
              "      <td>2020-05-03 17:34:40</td>\n",
              "      <td>rejection_type_2</td>\n",
              "      <td>369.0</td>\n",
              "    </tr>\n",
              "    <tr>\n",
              "      <th>3</th>\n",
              "      <td>1000007</td>\n",
              "      <td>2020-05-03 17:34:12</td>\n",
              "      <td>25.0</td>\n",
              "      <td>6150.0</td>\n",
              "      <td>10066.0</td>\n",
              "      <td>NaN</td>\n",
              "      <td>NaN</td>\n",
              "      <td>NaN</td>\n",
              "    </tr>\n",
              "    <tr>\n",
              "      <th>4</th>\n",
              "      <td>1000002</td>\n",
              "      <td>2020-05-03 17:34:40</td>\n",
              "      <td>25.0</td>\n",
              "      <td>12300.0</td>\n",
              "      <td>11678.0</td>\n",
              "      <td>NaN</td>\n",
              "      <td>NaN</td>\n",
              "      <td>NaN</td>\n",
              "    </tr>\n",
              "  </tbody>\n",
              "</table>\n",
              "</div>"
            ],
            "text/plain": [
              "      user           click_time  ...   activity_status  gained_reward\n",
              "0  1000000  2020-05-03 17:33:15  ...  rejection_type_2          369.0\n",
              "1  1000000  2020-05-03 17:33:50  ...               NaN            NaN\n",
              "2  1000002  2020-05-03 17:34:02  ...  rejection_type_2          369.0\n",
              "3  1000007  2020-05-03 17:34:12  ...               NaN            NaN\n",
              "4  1000002  2020-05-03 17:34:40  ...               NaN            NaN\n",
              "\n",
              "[5 rows x 8 columns]"
            ]
          },
          "metadata": {
            "tags": []
          },
          "execution_count": 11
        }
      ]
    },
    {
      "cell_type": "code",
      "metadata": {
        "colab": {
          "base_uri": "https://localhost:8080/"
        },
        "id": "fwlEoPm8KGCO",
        "outputId": "973c8b66-13e3-4468-faff-a87c7c90aa02"
      },
      "source": [
        "df1['user'].all()==df2['user'].all()"
      ],
      "execution_count": null,
      "outputs": [
        {
          "output_type": "execute_result",
          "data": {
            "text/plain": [
              "True"
            ]
          },
          "metadata": {
            "tags": []
          },
          "execution_count": 12
        }
      ]
    },
    {
      "cell_type": "code",
      "metadata": {
        "colab": {
          "base_uri": "https://localhost:8080/"
        },
        "id": "epfzBYmxapsR",
        "outputId": "70e71654-8b7c-4064-b497-d511845c035d"
      },
      "source": [
        "\n",
        "df2.info()"
      ],
      "execution_count": null,
      "outputs": [
        {
          "output_type": "stream",
          "text": [
            "<class 'pandas.core.frame.DataFrame'>\n",
            "RangeIndex: 32484 entries, 0 to 32483\n",
            "Data columns (total 8 columns):\n",
            " #   Column                         Non-Null Count  Dtype  \n",
            "---  ------                         --------------  -----  \n",
            " 0   user                           32484 non-null  int64  \n",
            " 1   click_time                     32484 non-null  object \n",
            " 2   length_of_activity_in_minutes  32483 non-null  float64\n",
            " 3   promised_reward                32483 non-null  float64\n",
            " 4   ip_asn                         32483 non-null  float64\n",
            " 5   postback_time                  12990 non-null  object \n",
            " 6   activity_status                12946 non-null  object \n",
            " 7   gained_reward                  12990 non-null  float64\n",
            "dtypes: float64(4), int64(1), object(3)\n",
            "memory usage: 2.0+ MB\n"
          ],
          "name": "stdout"
        }
      ]
    },
    {
      "cell_type": "code",
      "metadata": {
        "colab": {
          "base_uri": "https://localhost:8080/"
        },
        "id": "uJEMZoEraPZa",
        "outputId": "475b7882-90f1-44c6-f62f-98a120aee1cc"
      },
      "source": [
        "df2.nunique()"
      ],
      "execution_count": null,
      "outputs": [
        {
          "output_type": "execute_result",
          "data": {
            "text/plain": [
              "user                              2754\n",
              "click_time                       20019\n",
              "length_of_activity_in_minutes       35\n",
              "promised_reward                     68\n",
              "ip_asn                             328\n",
              "postback_time                    10498\n",
              "activity_status                      6\n",
              "gained_reward                       44\n",
              "dtype: int64"
            ]
          },
          "metadata": {
            "tags": []
          },
          "execution_count": 14
        }
      ]
    },
    {
      "cell_type": "code",
      "metadata": {
        "colab": {
          "base_uri": "https://localhost:8080/"
        },
        "id": "ePqhQbOGaZmk",
        "outputId": "b44e0dff-055d-4d64-d7da-200f82f8eb2c"
      },
      "source": [
        "df2.isna().sum()"
      ],
      "execution_count": null,
      "outputs": [
        {
          "output_type": "execute_result",
          "data": {
            "text/plain": [
              "user                                 0\n",
              "click_time                           0\n",
              "length_of_activity_in_minutes        1\n",
              "promised_reward                      1\n",
              "ip_asn                               1\n",
              "postback_time                    19494\n",
              "activity_status                  19538\n",
              "gained_reward                    19494\n",
              "dtype: int64"
            ]
          },
          "metadata": {
            "tags": []
          },
          "execution_count": 15
        }
      ]
    },
    {
      "cell_type": "code",
      "metadata": {
        "id": "3hPzM_GuamsZ"
      },
      "source": [
        "df=pd.merge(df1,df2,on=\"user\")"
      ],
      "execution_count": null,
      "outputs": []
    },
    {
      "cell_type": "code",
      "metadata": {
        "colab": {
          "base_uri": "https://localhost:8080/"
        },
        "id": "XHxzga9Et7ib",
        "outputId": "231f96a1-83ba-4487-e608-019639890aa7"
      },
      "source": [
        "df.shape"
      ],
      "execution_count": null,
      "outputs": [
        {
          "output_type": "execute_result",
          "data": {
            "text/plain": [
              "(32484, 16)"
            ]
          },
          "metadata": {
            "tags": []
          },
          "execution_count": 17
        }
      ]
    },
    {
      "cell_type": "code",
      "metadata": {
        "colab": {
          "base_uri": "https://localhost:8080/",
          "height": 549
        },
        "id": "KPoTfnQ6dijO",
        "outputId": "8cf428d4-ea23-4b65-a079-47c9d26cd9f2"
      },
      "source": [
        "df.tail(10)"
      ],
      "execution_count": null,
      "outputs": [
        {
          "output_type": "execute_result",
          "data": {
            "text/html": [
              "<div>\n",
              "<style scoped>\n",
              "    .dataframe tbody tr th:only-of-type {\n",
              "        vertical-align: middle;\n",
              "    }\n",
              "\n",
              "    .dataframe tbody tr th {\n",
              "        vertical-align: top;\n",
              "    }\n",
              "\n",
              "    .dataframe thead th {\n",
              "        text-align: right;\n",
              "    }\n",
              "</style>\n",
              "<table border=\"1\" class=\"dataframe\">\n",
              "  <thead>\n",
              "    <tr style=\"text-align: right;\">\n",
              "      <th></th>\n",
              "      <th>user</th>\n",
              "      <th>fraud</th>\n",
              "      <th>email_domain</th>\n",
              "      <th>ip_asn_x</th>\n",
              "      <th>signup_datetime</th>\n",
              "      <th>gender</th>\n",
              "      <th>marital</th>\n",
              "      <th>employment</th>\n",
              "      <th>pet</th>\n",
              "      <th>click_time</th>\n",
              "      <th>length_of_activity_in_minutes</th>\n",
              "      <th>promised_reward</th>\n",
              "      <th>ip_asn_y</th>\n",
              "      <th>postback_time</th>\n",
              "      <th>activity_status</th>\n",
              "      <th>gained_reward</th>\n",
              "    </tr>\n",
              "  </thead>\n",
              "  <tbody>\n",
              "    <tr>\n",
              "      <th>32474</th>\n",
              "      <td>1004770</td>\n",
              "      <td>0</td>\n",
              "      <td>c</td>\n",
              "      <td>10173</td>\n",
              "      <td>2020-05-04 06:43:01</td>\n",
              "      <td>0.0</td>\n",
              "      <td>Married</td>\n",
              "      <td>f</td>\n",
              "      <td>['Cat']</td>\n",
              "      <td>2020-05-04 06:51:50</td>\n",
              "      <td>20.0</td>\n",
              "      <td>6765.0</td>\n",
              "      <td>10173.0</td>\n",
              "      <td>2020-05-04 06:51:50</td>\n",
              "      <td>rejection_type_5</td>\n",
              "      <td>0.0</td>\n",
              "    </tr>\n",
              "    <tr>\n",
              "      <th>32475</th>\n",
              "      <td>1004770</td>\n",
              "      <td>0</td>\n",
              "      <td>c</td>\n",
              "      <td>10173</td>\n",
              "      <td>2020-05-04 06:43:01</td>\n",
              "      <td>0.0</td>\n",
              "      <td>Married</td>\n",
              "      <td>f</td>\n",
              "      <td>['Cat']</td>\n",
              "      <td>2020-05-04 06:54:26</td>\n",
              "      <td>15.0</td>\n",
              "      <td>4920.0</td>\n",
              "      <td>10173.0</td>\n",
              "      <td>2020-05-04 06:55:07</td>\n",
              "      <td>rejection_type_1</td>\n",
              "      <td>246.0</td>\n",
              "    </tr>\n",
              "    <tr>\n",
              "      <th>32476</th>\n",
              "      <td>1004770</td>\n",
              "      <td>0</td>\n",
              "      <td>c</td>\n",
              "      <td>10173</td>\n",
              "      <td>2020-05-04 06:43:01</td>\n",
              "      <td>0.0</td>\n",
              "      <td>Married</td>\n",
              "      <td>f</td>\n",
              "      <td>['Cat']</td>\n",
              "      <td>2020-05-04 06:55:07</td>\n",
              "      <td>15.0</td>\n",
              "      <td>4920.0</td>\n",
              "      <td>10173.0</td>\n",
              "      <td>NaN</td>\n",
              "      <td>NaN</td>\n",
              "      <td>NaN</td>\n",
              "    </tr>\n",
              "    <tr>\n",
              "      <th>32477</th>\n",
              "      <td>1004770</td>\n",
              "      <td>0</td>\n",
              "      <td>c</td>\n",
              "      <td>10173</td>\n",
              "      <td>2020-05-04 06:43:01</td>\n",
              "      <td>0.0</td>\n",
              "      <td>Married</td>\n",
              "      <td>f</td>\n",
              "      <td>['Cat']</td>\n",
              "      <td>2020-05-04 06:55:13</td>\n",
              "      <td>20.0</td>\n",
              "      <td>6765.0</td>\n",
              "      <td>10173.0</td>\n",
              "      <td>2020-05-04 07:24:17</td>\n",
              "      <td>successfull</td>\n",
              "      <td>6765.0</td>\n",
              "    </tr>\n",
              "    <tr>\n",
              "      <th>32478</th>\n",
              "      <td>1004804</td>\n",
              "      <td>0</td>\n",
              "      <td>c</td>\n",
              "      <td>10543</td>\n",
              "      <td>2020-05-04 06:46:15</td>\n",
              "      <td>0.0</td>\n",
              "      <td>Married</td>\n",
              "      <td>i</td>\n",
              "      <td>['Dog', 'Cat']</td>\n",
              "      <td>2020-05-04 06:52:08</td>\n",
              "      <td>15.0</td>\n",
              "      <td>7380.0</td>\n",
              "      <td>10543.0</td>\n",
              "      <td>2020-05-04 06:52:36</td>\n",
              "      <td>rejection_type_4</td>\n",
              "      <td>0.0</td>\n",
              "    </tr>\n",
              "    <tr>\n",
              "      <th>32479</th>\n",
              "      <td>1004804</td>\n",
              "      <td>0</td>\n",
              "      <td>c</td>\n",
              "      <td>10543</td>\n",
              "      <td>2020-05-04 06:46:15</td>\n",
              "      <td>0.0</td>\n",
              "      <td>Married</td>\n",
              "      <td>i</td>\n",
              "      <td>['Dog', 'Cat']</td>\n",
              "      <td>2020-05-04 06:52:36</td>\n",
              "      <td>15.0</td>\n",
              "      <td>7380.0</td>\n",
              "      <td>10543.0</td>\n",
              "      <td>NaN</td>\n",
              "      <td>NaN</td>\n",
              "      <td>NaN</td>\n",
              "    </tr>\n",
              "    <tr>\n",
              "      <th>32480</th>\n",
              "      <td>1004804</td>\n",
              "      <td>0</td>\n",
              "      <td>c</td>\n",
              "      <td>10543</td>\n",
              "      <td>2020-05-04 06:46:15</td>\n",
              "      <td>0.0</td>\n",
              "      <td>Married</td>\n",
              "      <td>i</td>\n",
              "      <td>['Dog', 'Cat']</td>\n",
              "      <td>2020-05-04 06:55:20</td>\n",
              "      <td>20.0</td>\n",
              "      <td>6765.0</td>\n",
              "      <td>10543.0</td>\n",
              "      <td>NaN</td>\n",
              "      <td>NaN</td>\n",
              "      <td>NaN</td>\n",
              "    </tr>\n",
              "    <tr>\n",
              "      <th>32481</th>\n",
              "      <td>1004810</td>\n",
              "      <td>0</td>\n",
              "      <td>c</td>\n",
              "      <td>11714</td>\n",
              "      <td>2020-05-04 06:47:05</td>\n",
              "      <td>0.0</td>\n",
              "      <td>Married</td>\n",
              "      <td>d</td>\n",
              "      <td>['Cat']</td>\n",
              "      <td>2020-05-04 06:51:00</td>\n",
              "      <td>15.0</td>\n",
              "      <td>6150.0</td>\n",
              "      <td>11714.0</td>\n",
              "      <td>2020-05-04 07:03:29</td>\n",
              "      <td>successfull</td>\n",
              "      <td>6150.0</td>\n",
              "    </tr>\n",
              "    <tr>\n",
              "      <th>32482</th>\n",
              "      <td>1004861</td>\n",
              "      <td>0</td>\n",
              "      <td>c</td>\n",
              "      <td>10631</td>\n",
              "      <td>2020-05-04 06:50:19</td>\n",
              "      <td>0.0</td>\n",
              "      <td>Single</td>\n",
              "      <td>b</td>\n",
              "      <td>['Dog', 'Cat']</td>\n",
              "      <td>2020-05-04 06:54:17</td>\n",
              "      <td>10.0</td>\n",
              "      <td>7380.0</td>\n",
              "      <td>10631.0</td>\n",
              "      <td>2020-05-04 07:14:15</td>\n",
              "      <td>successfull</td>\n",
              "      <td>7380.0</td>\n",
              "    </tr>\n",
              "    <tr>\n",
              "      <th>32483</th>\n",
              "      <td>1004924</td>\n",
              "      <td>0</td>\n",
              "      <td>c</td>\n",
              "      <td>12383</td>\n",
              "      <td>2020-05-04 06:55:02</td>\n",
              "      <td>0.0</td>\n",
              "      <td>Married</td>\n",
              "      <td>i</td>\n",
              "      <td>['No pets']</td>\n",
              "      <td>2020-05-04 06:57:53</td>\n",
              "      <td>9.0</td>\n",
              "      <td>4920.0</td>\n",
              "      <td>12383.0</td>\n",
              "      <td>2020-05-04 07:17:43</td>\n",
              "      <td>successfull</td>\n",
              "      <td>4920.0</td>\n",
              "    </tr>\n",
              "  </tbody>\n",
              "</table>\n",
              "</div>"
            ],
            "text/plain": [
              "          user  fraud  ...   activity_status  gained_reward\n",
              "32474  1004770      0  ...  rejection_type_5            0.0\n",
              "32475  1004770      0  ...  rejection_type_1          246.0\n",
              "32476  1004770      0  ...               NaN            NaN\n",
              "32477  1004770      0  ...       successfull         6765.0\n",
              "32478  1004804      0  ...  rejection_type_4            0.0\n",
              "32479  1004804      0  ...               NaN            NaN\n",
              "32480  1004804      0  ...               NaN            NaN\n",
              "32481  1004810      0  ...       successfull         6150.0\n",
              "32482  1004861      0  ...       successfull         7380.0\n",
              "32483  1004924      0  ...       successfull         4920.0\n",
              "\n",
              "[10 rows x 16 columns]"
            ]
          },
          "metadata": {
            "tags": []
          },
          "execution_count": 18
        }
      ]
    },
    {
      "cell_type": "code",
      "metadata": {
        "colab": {
          "base_uri": "https://localhost:8080/"
        },
        "id": "N-DG7BneFXfU",
        "outputId": "350ae2ec-e238-4728-cd5f-dee67d7e228b"
      },
      "source": [
        "df['fraud'].value_counts()"
      ],
      "execution_count": null,
      "outputs": [
        {
          "output_type": "execute_result",
          "data": {
            "text/plain": [
              "0    25090\n",
              "1     7394\n",
              "Name: fraud, dtype: int64"
            ]
          },
          "metadata": {
            "tags": []
          },
          "execution_count": 19
        }
      ]
    },
    {
      "cell_type": "code",
      "metadata": {
        "colab": {
          "base_uri": "https://localhost:8080/"
        },
        "id": "wPckFLewUeqS",
        "outputId": "c911933b-cda0-4871-dd82-558e983e4266"
      },
      "source": [
        "(986731/2543290)*100"
      ],
      "execution_count": null,
      "outputs": [
        {
          "output_type": "execute_result",
          "data": {
            "text/plain": [
              "38.797423809317856"
            ]
          },
          "metadata": {
            "tags": []
          },
          "execution_count": 20
        }
      ]
    },
    {
      "cell_type": "code",
      "metadata": {
        "colab": {
          "base_uri": "https://localhost:8080/"
        },
        "id": "1y1mzSRjdlOq",
        "outputId": "753ee849-6ad0-42f1-cbbf-9c08cc043797"
      },
      "source": [
        "df.info()"
      ],
      "execution_count": null,
      "outputs": [
        {
          "output_type": "stream",
          "text": [
            "<class 'pandas.core.frame.DataFrame'>\n",
            "Int64Index: 32484 entries, 0 to 32483\n",
            "Data columns (total 16 columns):\n",
            " #   Column                         Non-Null Count  Dtype  \n",
            "---  ------                         --------------  -----  \n",
            " 0   user                           32484 non-null  int64  \n",
            " 1   fraud                          32484 non-null  int64  \n",
            " 2   email_domain                   32484 non-null  object \n",
            " 3   ip_asn_x                       32484 non-null  int64  \n",
            " 4   signup_datetime                32484 non-null  object \n",
            " 5   gender                         32325 non-null  float64\n",
            " 6   marital                        32484 non-null  object \n",
            " 7   employment                     32484 non-null  object \n",
            " 8   pet                            32484 non-null  object \n",
            " 9   click_time                     32484 non-null  object \n",
            " 10  length_of_activity_in_minutes  32483 non-null  float64\n",
            " 11  promised_reward                32483 non-null  float64\n",
            " 12  ip_asn_y                       32483 non-null  float64\n",
            " 13  postback_time                  12990 non-null  object \n",
            " 14  activity_status                12946 non-null  object \n",
            " 15  gained_reward                  12990 non-null  float64\n",
            "dtypes: float64(5), int64(3), object(8)\n",
            "memory usage: 4.2+ MB\n"
          ],
          "name": "stdout"
        }
      ]
    },
    {
      "cell_type": "code",
      "metadata": {
        "colab": {
          "base_uri": "https://localhost:8080/"
        },
        "id": "_gEd5NJSBpw5",
        "outputId": "ea7086b8-fc21-4abd-af0d-3ea4d68344ba"
      },
      "source": [
        "df.isna().sum()"
      ],
      "execution_count": null,
      "outputs": [
        {
          "output_type": "execute_result",
          "data": {
            "text/plain": [
              "user                                 0\n",
              "fraud                                0\n",
              "email_domain                         0\n",
              "ip_asn_x                             0\n",
              "signup_datetime                      0\n",
              "gender                             159\n",
              "marital                              0\n",
              "employment                           0\n",
              "pet                                  0\n",
              "click_time                           0\n",
              "length_of_activity_in_minutes        1\n",
              "promised_reward                      1\n",
              "ip_asn_y                             1\n",
              "postback_time                    19494\n",
              "activity_status                  19538\n",
              "gained_reward                    19494\n",
              "dtype: int64"
            ]
          },
          "metadata": {
            "tags": []
          },
          "execution_count": 22
        }
      ]
    },
    {
      "cell_type": "code",
      "metadata": {
        "colab": {
          "base_uri": "https://localhost:8080/"
        },
        "id": "2nDt0d1JGKKz",
        "outputId": "24ca37ae-d8e7-421c-8f0d-ed2979ce9146"
      },
      "source": [
        "df.nunique()"
      ],
      "execution_count": null,
      "outputs": [
        {
          "output_type": "execute_result",
          "data": {
            "text/plain": [
              "user                              2754\n",
              "fraud                                2\n",
              "email_domain                         7\n",
              "ip_asn_x                           318\n",
              "signup_datetime                   2674\n",
              "gender                               2\n",
              "marital                              3\n",
              "employment                          11\n",
              "pet                                131\n",
              "click_time                       20019\n",
              "length_of_activity_in_minutes       35\n",
              "promised_reward                     68\n",
              "ip_asn_y                           328\n",
              "postback_time                    10498\n",
              "activity_status                      6\n",
              "gained_reward                       44\n",
              "dtype: int64"
            ]
          },
          "metadata": {
            "tags": []
          },
          "execution_count": 23
        }
      ]
    },
    {
      "cell_type": "code",
      "metadata": {
        "id": "VH6-FG4eBGlg"
      },
      "source": [
        "df[\"gained_reward\"]=df[\"gained_reward\"].fillna(0)"
      ],
      "execution_count": null,
      "outputs": []
    },
    {
      "cell_type": "code",
      "metadata": {
        "id": "oIQ7PbQiDgwI"
      },
      "source": [
        "df.drop('pet',axis=1,inplace=True)\n",
        "df.drop('activity_status',axis=1,inplace=True)"
      ],
      "execution_count": null,
      "outputs": []
    },
    {
      "cell_type": "code",
      "metadata": {
        "colab": {
          "base_uri": "https://localhost:8080/"
        },
        "id": "jKQEQ4v6KyFT",
        "outputId": "e96a40b7-638d-48d8-e6e2-313383c4b7b5"
      },
      "source": [
        "df.isna().sum()"
      ],
      "execution_count": null,
      "outputs": [
        {
          "output_type": "execute_result",
          "data": {
            "text/plain": [
              "user                                 0\n",
              "fraud                                0\n",
              "email_domain                         0\n",
              "ip_asn_x                             0\n",
              "signup_datetime                      0\n",
              "gender                             159\n",
              "marital                              0\n",
              "employment                           0\n",
              "click_time                           0\n",
              "length_of_activity_in_minutes        1\n",
              "promised_reward                      1\n",
              "ip_asn_y                             1\n",
              "postback_time                    19494\n",
              "gained_reward                        0\n",
              "dtype: int64"
            ]
          },
          "metadata": {
            "tags": []
          },
          "execution_count": 27
        }
      ]
    },
    {
      "cell_type": "code",
      "metadata": {
        "colab": {
          "base_uri": "https://localhost:8080/",
          "height": 309
        },
        "id": "Ux-1i5HpLrwi",
        "outputId": "ba90e462-aef6-45fc-d904-40975262bffa"
      },
      "source": [
        "df.sort_values('user').head()"
      ],
      "execution_count": null,
      "outputs": [
        {
          "output_type": "execute_result",
          "data": {
            "text/html": [
              "<div>\n",
              "<style scoped>\n",
              "    .dataframe tbody tr th:only-of-type {\n",
              "        vertical-align: middle;\n",
              "    }\n",
              "\n",
              "    .dataframe tbody tr th {\n",
              "        vertical-align: top;\n",
              "    }\n",
              "\n",
              "    .dataframe thead th {\n",
              "        text-align: right;\n",
              "    }\n",
              "</style>\n",
              "<table border=\"1\" class=\"dataframe\">\n",
              "  <thead>\n",
              "    <tr style=\"text-align: right;\">\n",
              "      <th></th>\n",
              "      <th>user</th>\n",
              "      <th>fraud</th>\n",
              "      <th>email_domain</th>\n",
              "      <th>ip_asn_x</th>\n",
              "      <th>signup_datetime</th>\n",
              "      <th>gender</th>\n",
              "      <th>marital</th>\n",
              "      <th>employment</th>\n",
              "      <th>click_time</th>\n",
              "      <th>length_of_activity_in_minutes</th>\n",
              "      <th>promised_reward</th>\n",
              "      <th>ip_asn_y</th>\n",
              "      <th>postback_time</th>\n",
              "      <th>gained_reward</th>\n",
              "    </tr>\n",
              "  </thead>\n",
              "  <tbody>\n",
              "    <tr>\n",
              "      <th>0</th>\n",
              "      <td>1000000</td>\n",
              "      <td>0</td>\n",
              "      <td>c</td>\n",
              "      <td>11202</td>\n",
              "      <td>2020-05-03 17:29:33</td>\n",
              "      <td>1.0</td>\n",
              "      <td>Married</td>\n",
              "      <td>i</td>\n",
              "      <td>2020-05-03 17:33:15</td>\n",
              "      <td>25.0</td>\n",
              "      <td>12300.0</td>\n",
              "      <td>11202.0</td>\n",
              "      <td>2020-05-03 17:33:50</td>\n",
              "      <td>369.0</td>\n",
              "    </tr>\n",
              "    <tr>\n",
              "      <th>1</th>\n",
              "      <td>1000000</td>\n",
              "      <td>0</td>\n",
              "      <td>c</td>\n",
              "      <td>11202</td>\n",
              "      <td>2020-05-03 17:29:33</td>\n",
              "      <td>1.0</td>\n",
              "      <td>Married</td>\n",
              "      <td>i</td>\n",
              "      <td>2020-05-03 17:33:50</td>\n",
              "      <td>25.0</td>\n",
              "      <td>12300.0</td>\n",
              "      <td>11202.0</td>\n",
              "      <td>NaN</td>\n",
              "      <td>0.0</td>\n",
              "    </tr>\n",
              "    <tr>\n",
              "      <th>2633</th>\n",
              "      <td>1000002</td>\n",
              "      <td>0</td>\n",
              "      <td>c</td>\n",
              "      <td>11678</td>\n",
              "      <td>2020-05-03 17:29:44</td>\n",
              "      <td>1.0</td>\n",
              "      <td>Married</td>\n",
              "      <td>i</td>\n",
              "      <td>2020-05-03 17:36:14</td>\n",
              "      <td>9.0</td>\n",
              "      <td>4920.0</td>\n",
              "      <td>11678.0</td>\n",
              "      <td>NaN</td>\n",
              "      <td>0.0</td>\n",
              "    </tr>\n",
              "    <tr>\n",
              "      <th>2632</th>\n",
              "      <td>1000002</td>\n",
              "      <td>0</td>\n",
              "      <td>c</td>\n",
              "      <td>11678</td>\n",
              "      <td>2020-05-03 17:29:44</td>\n",
              "      <td>1.0</td>\n",
              "      <td>Married</td>\n",
              "      <td>i</td>\n",
              "      <td>2020-05-03 17:34:56</td>\n",
              "      <td>9.0</td>\n",
              "      <td>4920.0</td>\n",
              "      <td>11678.0</td>\n",
              "      <td>2020-05-03 17:36:14</td>\n",
              "      <td>246.0</td>\n",
              "    </tr>\n",
              "    <tr>\n",
              "      <th>2631</th>\n",
              "      <td>1000002</td>\n",
              "      <td>0</td>\n",
              "      <td>c</td>\n",
              "      <td>11678</td>\n",
              "      <td>2020-05-03 17:29:44</td>\n",
              "      <td>1.0</td>\n",
              "      <td>Married</td>\n",
              "      <td>i</td>\n",
              "      <td>2020-05-03 17:34:40</td>\n",
              "      <td>25.0</td>\n",
              "      <td>12300.0</td>\n",
              "      <td>11678.0</td>\n",
              "      <td>NaN</td>\n",
              "      <td>0.0</td>\n",
              "    </tr>\n",
              "  </tbody>\n",
              "</table>\n",
              "</div>"
            ],
            "text/plain": [
              "         user  fraud email_domain  ...  ip_asn_y        postback_time  gained_reward\n",
              "0     1000000      0            c  ...   11202.0  2020-05-03 17:33:50          369.0\n",
              "1     1000000      0            c  ...   11202.0                  NaN            0.0\n",
              "2633  1000002      0            c  ...   11678.0                  NaN            0.0\n",
              "2632  1000002      0            c  ...   11678.0  2020-05-03 17:36:14          246.0\n",
              "2631  1000002      0            c  ...   11678.0                  NaN            0.0\n",
              "\n",
              "[5 rows x 14 columns]"
            ]
          },
          "metadata": {
            "tags": []
          },
          "execution_count": 28
        }
      ]
    },
    {
      "cell_type": "code",
      "metadata": {
        "colab": {
          "base_uri": "https://localhost:8080/",
          "height": 309
        },
        "id": "OY0R5_ej8mFE",
        "outputId": "6bcca64e-26d0-4c09-f36d-74b04377dab1"
      },
      "source": [
        "df.head()"
      ],
      "execution_count": null,
      "outputs": [
        {
          "output_type": "execute_result",
          "data": {
            "text/html": [
              "<div>\n",
              "<style scoped>\n",
              "    .dataframe tbody tr th:only-of-type {\n",
              "        vertical-align: middle;\n",
              "    }\n",
              "\n",
              "    .dataframe tbody tr th {\n",
              "        vertical-align: top;\n",
              "    }\n",
              "\n",
              "    .dataframe thead th {\n",
              "        text-align: right;\n",
              "    }\n",
              "</style>\n",
              "<table border=\"1\" class=\"dataframe\">\n",
              "  <thead>\n",
              "    <tr style=\"text-align: right;\">\n",
              "      <th></th>\n",
              "      <th>user</th>\n",
              "      <th>fraud</th>\n",
              "      <th>email_domain</th>\n",
              "      <th>ip_asn_x</th>\n",
              "      <th>signup_datetime</th>\n",
              "      <th>gender</th>\n",
              "      <th>marital</th>\n",
              "      <th>employment</th>\n",
              "      <th>click_time</th>\n",
              "      <th>length_of_activity_in_minutes</th>\n",
              "      <th>promised_reward</th>\n",
              "      <th>ip_asn_y</th>\n",
              "      <th>postback_time</th>\n",
              "      <th>gained_reward</th>\n",
              "    </tr>\n",
              "  </thead>\n",
              "  <tbody>\n",
              "    <tr>\n",
              "      <th>0</th>\n",
              "      <td>1000000</td>\n",
              "      <td>0</td>\n",
              "      <td>c</td>\n",
              "      <td>11202</td>\n",
              "      <td>2020-05-03 17:29:33</td>\n",
              "      <td>1.0</td>\n",
              "      <td>Married</td>\n",
              "      <td>i</td>\n",
              "      <td>2020-05-03 17:33:15</td>\n",
              "      <td>25.0</td>\n",
              "      <td>12300.0</td>\n",
              "      <td>11202.0</td>\n",
              "      <td>2020-05-03 17:33:50</td>\n",
              "      <td>369.0</td>\n",
              "    </tr>\n",
              "    <tr>\n",
              "      <th>1</th>\n",
              "      <td>1000000</td>\n",
              "      <td>0</td>\n",
              "      <td>c</td>\n",
              "      <td>11202</td>\n",
              "      <td>2020-05-03 17:29:33</td>\n",
              "      <td>1.0</td>\n",
              "      <td>Married</td>\n",
              "      <td>i</td>\n",
              "      <td>2020-05-03 17:33:50</td>\n",
              "      <td>25.0</td>\n",
              "      <td>12300.0</td>\n",
              "      <td>11202.0</td>\n",
              "      <td>NaN</td>\n",
              "      <td>0.0</td>\n",
              "    </tr>\n",
              "    <tr>\n",
              "      <th>2</th>\n",
              "      <td>1000015</td>\n",
              "      <td>0</td>\n",
              "      <td>f</td>\n",
              "      <td>11202</td>\n",
              "      <td>2020-05-03 17:32:33</td>\n",
              "      <td>1.0</td>\n",
              "      <td>Married</td>\n",
              "      <td>d</td>\n",
              "      <td>2020-05-03 17:36:38</td>\n",
              "      <td>2.0</td>\n",
              "      <td>3075.0</td>\n",
              "      <td>11202.0</td>\n",
              "      <td>2020-05-03 17:38:03</td>\n",
              "      <td>246.0</td>\n",
              "    </tr>\n",
              "    <tr>\n",
              "      <th>3</th>\n",
              "      <td>1000015</td>\n",
              "      <td>0</td>\n",
              "      <td>f</td>\n",
              "      <td>11202</td>\n",
              "      <td>2020-05-03 17:32:33</td>\n",
              "      <td>1.0</td>\n",
              "      <td>Married</td>\n",
              "      <td>d</td>\n",
              "      <td>2020-05-03 17:38:03</td>\n",
              "      <td>2.0</td>\n",
              "      <td>3075.0</td>\n",
              "      <td>11202.0</td>\n",
              "      <td>NaN</td>\n",
              "      <td>0.0</td>\n",
              "    </tr>\n",
              "    <tr>\n",
              "      <th>4</th>\n",
              "      <td>1000015</td>\n",
              "      <td>0</td>\n",
              "      <td>f</td>\n",
              "      <td>11202</td>\n",
              "      <td>2020-05-03 17:32:33</td>\n",
              "      <td>1.0</td>\n",
              "      <td>Married</td>\n",
              "      <td>d</td>\n",
              "      <td>2020-05-03 17:38:46</td>\n",
              "      <td>15.0</td>\n",
              "      <td>7380.0</td>\n",
              "      <td>11202.0</td>\n",
              "      <td>2020-05-03 17:57:01</td>\n",
              "      <td>7380.0</td>\n",
              "    </tr>\n",
              "  </tbody>\n",
              "</table>\n",
              "</div>"
            ],
            "text/plain": [
              "      user  fraud email_domain  ...  ip_asn_y        postback_time  gained_reward\n",
              "0  1000000      0            c  ...   11202.0  2020-05-03 17:33:50          369.0\n",
              "1  1000000      0            c  ...   11202.0                  NaN            0.0\n",
              "2  1000015      0            f  ...   11202.0  2020-05-03 17:38:03          246.0\n",
              "3  1000015      0            f  ...   11202.0                  NaN            0.0\n",
              "4  1000015      0            f  ...   11202.0  2020-05-03 17:57:01         7380.0\n",
              "\n",
              "[5 rows x 14 columns]"
            ]
          },
          "metadata": {
            "tags": []
          },
          "execution_count": 29
        }
      ]
    },
    {
      "cell_type": "code",
      "metadata": {
        "colab": {
          "base_uri": "https://localhost:8080/"
        },
        "id": "8QIIOCD-Sddv",
        "outputId": "67809303-3063-4d3a-8c4b-ffe1b4844e8e"
      },
      "source": [
        "df['activity_duration']=pd. to_datetime(df['postback_time'])-pd. to_datetime(df['click_time'])\n",
        "df['activity_duration']"
      ],
      "execution_count": null,
      "outputs": [
        {
          "output_type": "execute_result",
          "data": {
            "text/plain": [
              "0       0 days 00:00:35\n",
              "1                   NaT\n",
              "2       0 days 00:01:25\n",
              "3                   NaT\n",
              "4       0 days 00:18:15\n",
              "              ...      \n",
              "32479               NaT\n",
              "32480               NaT\n",
              "32481   0 days 00:12:29\n",
              "32482   0 days 00:19:58\n",
              "32483   0 days 00:19:50\n",
              "Name: activity_duration, Length: 32484, dtype: timedelta64[ns]"
            ]
          },
          "metadata": {
            "tags": []
          },
          "execution_count": 30
        }
      ]
    },
    {
      "cell_type": "code",
      "metadata": {
        "id": "C4sjxebCKIvg"
      },
      "source": [
        "df['activity_duration']=df['activity_duration'].dt.total_seconds()"
      ],
      "execution_count": null,
      "outputs": []
    },
    {
      "cell_type": "code",
      "metadata": {
        "colab": {
          "base_uri": "https://localhost:8080/"
        },
        "id": "vU3b246XLIDd",
        "outputId": "6841e44c-afae-4cac-b410-59bf7003f191"
      },
      "source": [
        "df['activity_duration']"
      ],
      "execution_count": null,
      "outputs": [
        {
          "output_type": "execute_result",
          "data": {
            "text/plain": [
              "0          35.0\n",
              "1           NaN\n",
              "2          85.0\n",
              "3           NaN\n",
              "4        1095.0\n",
              "          ...  \n",
              "32479       NaN\n",
              "32480       NaN\n",
              "32481     749.0\n",
              "32482    1198.0\n",
              "32483    1190.0\n",
              "Name: activity_duration, Length: 32484, dtype: float64"
            ]
          },
          "metadata": {
            "tags": []
          },
          "execution_count": 32
        }
      ]
    },
    {
      "cell_type": "code",
      "metadata": {
        "id": "q0ZsrRGwLYVm"
      },
      "source": [
        "df['length_of_activity_in_minutes']=df['length_of_activity_in_minutes'].apply(lambda x:x*60.0)"
      ],
      "execution_count": null,
      "outputs": []
    },
    {
      "cell_type": "code",
      "metadata": {
        "id": "DcIojbTDM4La"
      },
      "source": [
        "df['activity_duration']=df['activity_duration'].fillna(0)"
      ],
      "execution_count": null,
      "outputs": []
    },
    {
      "cell_type": "code",
      "metadata": {
        "colab": {
          "base_uri": "https://localhost:8080/",
          "height": 309
        },
        "id": "6Iyf93axNEM6",
        "outputId": "78a53261-8599-4e2f-a473-d1e5321bb9e2"
      },
      "source": [
        "df.head()"
      ],
      "execution_count": null,
      "outputs": [
        {
          "output_type": "execute_result",
          "data": {
            "text/html": [
              "<div>\n",
              "<style scoped>\n",
              "    .dataframe tbody tr th:only-of-type {\n",
              "        vertical-align: middle;\n",
              "    }\n",
              "\n",
              "    .dataframe tbody tr th {\n",
              "        vertical-align: top;\n",
              "    }\n",
              "\n",
              "    .dataframe thead th {\n",
              "        text-align: right;\n",
              "    }\n",
              "</style>\n",
              "<table border=\"1\" class=\"dataframe\">\n",
              "  <thead>\n",
              "    <tr style=\"text-align: right;\">\n",
              "      <th></th>\n",
              "      <th>user</th>\n",
              "      <th>fraud</th>\n",
              "      <th>email_domain</th>\n",
              "      <th>ip_asn_x</th>\n",
              "      <th>signup_datetime</th>\n",
              "      <th>gender</th>\n",
              "      <th>marital</th>\n",
              "      <th>employment</th>\n",
              "      <th>click_time</th>\n",
              "      <th>length_of_activity_in_minutes</th>\n",
              "      <th>promised_reward</th>\n",
              "      <th>ip_asn_y</th>\n",
              "      <th>postback_time</th>\n",
              "      <th>gained_reward</th>\n",
              "      <th>activity_duration</th>\n",
              "    </tr>\n",
              "  </thead>\n",
              "  <tbody>\n",
              "    <tr>\n",
              "      <th>0</th>\n",
              "      <td>1000000</td>\n",
              "      <td>0</td>\n",
              "      <td>c</td>\n",
              "      <td>11202</td>\n",
              "      <td>2020-05-03 17:29:33</td>\n",
              "      <td>1.0</td>\n",
              "      <td>Married</td>\n",
              "      <td>i</td>\n",
              "      <td>2020-05-03 17:33:15</td>\n",
              "      <td>1500.0</td>\n",
              "      <td>12300.0</td>\n",
              "      <td>11202.0</td>\n",
              "      <td>2020-05-03 17:33:50</td>\n",
              "      <td>369.0</td>\n",
              "      <td>35.0</td>\n",
              "    </tr>\n",
              "    <tr>\n",
              "      <th>1</th>\n",
              "      <td>1000000</td>\n",
              "      <td>0</td>\n",
              "      <td>c</td>\n",
              "      <td>11202</td>\n",
              "      <td>2020-05-03 17:29:33</td>\n",
              "      <td>1.0</td>\n",
              "      <td>Married</td>\n",
              "      <td>i</td>\n",
              "      <td>2020-05-03 17:33:50</td>\n",
              "      <td>1500.0</td>\n",
              "      <td>12300.0</td>\n",
              "      <td>11202.0</td>\n",
              "      <td>NaN</td>\n",
              "      <td>0.0</td>\n",
              "      <td>0.0</td>\n",
              "    </tr>\n",
              "    <tr>\n",
              "      <th>2</th>\n",
              "      <td>1000015</td>\n",
              "      <td>0</td>\n",
              "      <td>f</td>\n",
              "      <td>11202</td>\n",
              "      <td>2020-05-03 17:32:33</td>\n",
              "      <td>1.0</td>\n",
              "      <td>Married</td>\n",
              "      <td>d</td>\n",
              "      <td>2020-05-03 17:36:38</td>\n",
              "      <td>120.0</td>\n",
              "      <td>3075.0</td>\n",
              "      <td>11202.0</td>\n",
              "      <td>2020-05-03 17:38:03</td>\n",
              "      <td>246.0</td>\n",
              "      <td>85.0</td>\n",
              "    </tr>\n",
              "    <tr>\n",
              "      <th>3</th>\n",
              "      <td>1000015</td>\n",
              "      <td>0</td>\n",
              "      <td>f</td>\n",
              "      <td>11202</td>\n",
              "      <td>2020-05-03 17:32:33</td>\n",
              "      <td>1.0</td>\n",
              "      <td>Married</td>\n",
              "      <td>d</td>\n",
              "      <td>2020-05-03 17:38:03</td>\n",
              "      <td>120.0</td>\n",
              "      <td>3075.0</td>\n",
              "      <td>11202.0</td>\n",
              "      <td>NaN</td>\n",
              "      <td>0.0</td>\n",
              "      <td>0.0</td>\n",
              "    </tr>\n",
              "    <tr>\n",
              "      <th>4</th>\n",
              "      <td>1000015</td>\n",
              "      <td>0</td>\n",
              "      <td>f</td>\n",
              "      <td>11202</td>\n",
              "      <td>2020-05-03 17:32:33</td>\n",
              "      <td>1.0</td>\n",
              "      <td>Married</td>\n",
              "      <td>d</td>\n",
              "      <td>2020-05-03 17:38:46</td>\n",
              "      <td>900.0</td>\n",
              "      <td>7380.0</td>\n",
              "      <td>11202.0</td>\n",
              "      <td>2020-05-03 17:57:01</td>\n",
              "      <td>7380.0</td>\n",
              "      <td>1095.0</td>\n",
              "    </tr>\n",
              "  </tbody>\n",
              "</table>\n",
              "</div>"
            ],
            "text/plain": [
              "      user  fraud  ... gained_reward  activity_duration\n",
              "0  1000000      0  ...         369.0               35.0\n",
              "1  1000000      0  ...           0.0                0.0\n",
              "2  1000015      0  ...         246.0               85.0\n",
              "3  1000015      0  ...           0.0                0.0\n",
              "4  1000015      0  ...        7380.0             1095.0\n",
              "\n",
              "[5 rows x 15 columns]"
            ]
          },
          "metadata": {
            "tags": []
          },
          "execution_count": 35
        }
      ]
    },
    {
      "cell_type": "code",
      "metadata": {
        "id": "RZ0KIM0YPL4s"
      },
      "source": [
        "\n",
        "#df[\"signup_datetime\"]=df[\"signup_datetime\"].apply(lambda x: x.replace('-','')).apply(lambda x:x.replace(':','')).apply(lambda x:x.replace(' ',''))"
      ],
      "execution_count": null,
      "outputs": []
    },
    {
      "cell_type": "code",
      "metadata": {
        "id": "KN7oVK__MsNT"
      },
      "source": [
        "df.drop(['signup_datetime','click_time','postback_time'],axis=1,inplace=True)\n"
      ],
      "execution_count": null,
      "outputs": []
    },
    {
      "cell_type": "code",
      "metadata": {
        "colab": {
          "base_uri": "https://localhost:8080/"
        },
        "id": "K-cw1IVFNnsH",
        "outputId": "5ac64f30-575b-42c6-8c1a-3cfe6f92f06b"
      },
      "source": [
        "df.info()"
      ],
      "execution_count": null,
      "outputs": [
        {
          "output_type": "stream",
          "text": [
            "<class 'pandas.core.frame.DataFrame'>\n",
            "Int64Index: 32484 entries, 0 to 32483\n",
            "Data columns (total 12 columns):\n",
            " #   Column                         Non-Null Count  Dtype  \n",
            "---  ------                         --------------  -----  \n",
            " 0   user                           32484 non-null  int64  \n",
            " 1   fraud                          32484 non-null  int64  \n",
            " 2   email_domain                   32484 non-null  object \n",
            " 3   ip_asn_x                       32484 non-null  int64  \n",
            " 4   gender                         32325 non-null  float64\n",
            " 5   marital                        32484 non-null  object \n",
            " 6   employment                     32484 non-null  object \n",
            " 7   length_of_activity_in_minutes  32483 non-null  float64\n",
            " 8   promised_reward                32483 non-null  float64\n",
            " 9   ip_asn_y                       32483 non-null  float64\n",
            " 10  gained_reward                  32484 non-null  float64\n",
            " 11  activity_duration              32484 non-null  float64\n",
            "dtypes: float64(6), int64(3), object(3)\n",
            "memory usage: 3.2+ MB\n"
          ],
          "name": "stdout"
        }
      ]
    },
    {
      "cell_type": "code",
      "metadata": {
        "id": "R7QTAyjZ_HnK"
      },
      "source": [
        "target=df[\"fraud\"]"
      ],
      "execution_count": null,
      "outputs": []
    },
    {
      "cell_type": "code",
      "metadata": {
        "colab": {
          "base_uri": "https://localhost:8080/",
          "height": 224
        },
        "id": "SS53UAQtOcYD",
        "outputId": "09d3d648-b1f9-432c-e487-3198cbc3d7b0"
      },
      "source": [
        "data=df[df.columns.difference(['fraud'])]\n",
        "data.head()"
      ],
      "execution_count": null,
      "outputs": [
        {
          "output_type": "execute_result",
          "data": {
            "text/html": [
              "<div>\n",
              "<style scoped>\n",
              "    .dataframe tbody tr th:only-of-type {\n",
              "        vertical-align: middle;\n",
              "    }\n",
              "\n",
              "    .dataframe tbody tr th {\n",
              "        vertical-align: top;\n",
              "    }\n",
              "\n",
              "    .dataframe thead th {\n",
              "        text-align: right;\n",
              "    }\n",
              "</style>\n",
              "<table border=\"1\" class=\"dataframe\">\n",
              "  <thead>\n",
              "    <tr style=\"text-align: right;\">\n",
              "      <th></th>\n",
              "      <th>activity_duration</th>\n",
              "      <th>email_domain</th>\n",
              "      <th>employment</th>\n",
              "      <th>gained_reward</th>\n",
              "      <th>gender</th>\n",
              "      <th>ip_asn_x</th>\n",
              "      <th>ip_asn_y</th>\n",
              "      <th>length_of_activity_in_minutes</th>\n",
              "      <th>marital</th>\n",
              "      <th>promised_reward</th>\n",
              "      <th>user</th>\n",
              "    </tr>\n",
              "  </thead>\n",
              "  <tbody>\n",
              "    <tr>\n",
              "      <th>0</th>\n",
              "      <td>35.0</td>\n",
              "      <td>c</td>\n",
              "      <td>i</td>\n",
              "      <td>369.0</td>\n",
              "      <td>1.0</td>\n",
              "      <td>11202</td>\n",
              "      <td>11202.0</td>\n",
              "      <td>1500.0</td>\n",
              "      <td>Married</td>\n",
              "      <td>12300.0</td>\n",
              "      <td>1000000</td>\n",
              "    </tr>\n",
              "    <tr>\n",
              "      <th>1</th>\n",
              "      <td>0.0</td>\n",
              "      <td>c</td>\n",
              "      <td>i</td>\n",
              "      <td>0.0</td>\n",
              "      <td>1.0</td>\n",
              "      <td>11202</td>\n",
              "      <td>11202.0</td>\n",
              "      <td>1500.0</td>\n",
              "      <td>Married</td>\n",
              "      <td>12300.0</td>\n",
              "      <td>1000000</td>\n",
              "    </tr>\n",
              "    <tr>\n",
              "      <th>2</th>\n",
              "      <td>85.0</td>\n",
              "      <td>f</td>\n",
              "      <td>d</td>\n",
              "      <td>246.0</td>\n",
              "      <td>1.0</td>\n",
              "      <td>11202</td>\n",
              "      <td>11202.0</td>\n",
              "      <td>120.0</td>\n",
              "      <td>Married</td>\n",
              "      <td>3075.0</td>\n",
              "      <td>1000015</td>\n",
              "    </tr>\n",
              "    <tr>\n",
              "      <th>3</th>\n",
              "      <td>0.0</td>\n",
              "      <td>f</td>\n",
              "      <td>d</td>\n",
              "      <td>0.0</td>\n",
              "      <td>1.0</td>\n",
              "      <td>11202</td>\n",
              "      <td>11202.0</td>\n",
              "      <td>120.0</td>\n",
              "      <td>Married</td>\n",
              "      <td>3075.0</td>\n",
              "      <td>1000015</td>\n",
              "    </tr>\n",
              "    <tr>\n",
              "      <th>4</th>\n",
              "      <td>1095.0</td>\n",
              "      <td>f</td>\n",
              "      <td>d</td>\n",
              "      <td>7380.0</td>\n",
              "      <td>1.0</td>\n",
              "      <td>11202</td>\n",
              "      <td>11202.0</td>\n",
              "      <td>900.0</td>\n",
              "      <td>Married</td>\n",
              "      <td>7380.0</td>\n",
              "      <td>1000015</td>\n",
              "    </tr>\n",
              "  </tbody>\n",
              "</table>\n",
              "</div>"
            ],
            "text/plain": [
              "   activity_duration email_domain employment  ...  marital  promised_reward     user\n",
              "0               35.0            c          i  ...  Married          12300.0  1000000\n",
              "1                0.0            c          i  ...  Married          12300.0  1000000\n",
              "2               85.0            f          d  ...  Married           3075.0  1000015\n",
              "3                0.0            f          d  ...  Married           3075.0  1000015\n",
              "4             1095.0            f          d  ...  Married           7380.0  1000015\n",
              "\n",
              "[5 rows x 11 columns]"
            ]
          },
          "metadata": {
            "tags": []
          },
          "execution_count": 40
        }
      ]
    },
    {
      "cell_type": "code",
      "metadata": {
        "colab": {
          "base_uri": "https://localhost:8080/"
        },
        "id": "PH4gjxViO20T",
        "outputId": "5f00c716-936e-4f94-dca1-cd3ceaf37f45"
      },
      "source": [
        "data.columns"
      ],
      "execution_count": null,
      "outputs": [
        {
          "output_type": "execute_result",
          "data": {
            "text/plain": [
              "Index(['activity_duration', 'email_domain', 'employment', 'gained_reward',\n",
              "       'gender', 'ip_asn_x', 'ip_asn_y', 'length_of_activity_in_minutes',\n",
              "       'marital', 'promised_reward', 'user'],\n",
              "      dtype='object')"
            ]
          },
          "metadata": {
            "tags": []
          },
          "execution_count": 41
        }
      ]
    },
    {
      "cell_type": "code",
      "metadata": {
        "colab": {
          "base_uri": "https://localhost:8080/",
          "height": 317
        },
        "id": "jnFEXthpPPOC",
        "outputId": "e50b0e85-f8b7-48e2-a389-a43f429bd548"
      },
      "source": [
        "data.describe()"
      ],
      "execution_count": null,
      "outputs": [
        {
          "output_type": "execute_result",
          "data": {
            "text/html": [
              "<div>\n",
              "<style scoped>\n",
              "    .dataframe tbody tr th:only-of-type {\n",
              "        vertical-align: middle;\n",
              "    }\n",
              "\n",
              "    .dataframe tbody tr th {\n",
              "        vertical-align: top;\n",
              "    }\n",
              "\n",
              "    .dataframe thead th {\n",
              "        text-align: right;\n",
              "    }\n",
              "</style>\n",
              "<table border=\"1\" class=\"dataframe\">\n",
              "  <thead>\n",
              "    <tr style=\"text-align: right;\">\n",
              "      <th></th>\n",
              "      <th>activity_duration</th>\n",
              "      <th>gained_reward</th>\n",
              "      <th>gender</th>\n",
              "      <th>ip_asn_x</th>\n",
              "      <th>ip_asn_y</th>\n",
              "      <th>length_of_activity_in_minutes</th>\n",
              "      <th>promised_reward</th>\n",
              "      <th>user</th>\n",
              "    </tr>\n",
              "  </thead>\n",
              "  <tbody>\n",
              "    <tr>\n",
              "      <th>count</th>\n",
              "      <td>32484.000000</td>\n",
              "      <td>32484.000000</td>\n",
              "      <td>32325.000000</td>\n",
              "      <td>32484.000000</td>\n",
              "      <td>32483.000000</td>\n",
              "      <td>32483.000000</td>\n",
              "      <td>32483.000000</td>\n",
              "      <td>3.248400e+04</td>\n",
              "    </tr>\n",
              "    <tr>\n",
              "      <th>mean</th>\n",
              "      <td>105.016470</td>\n",
              "      <td>368.522904</td>\n",
              "      <td>0.570116</td>\n",
              "      <td>10613.135882</td>\n",
              "      <td>10632.663732</td>\n",
              "      <td>871.655943</td>\n",
              "      <td>7992.652310</td>\n",
              "      <td>1.002218e+06</td>\n",
              "    </tr>\n",
              "    <tr>\n",
              "      <th>std</th>\n",
              "      <td>1121.028761</td>\n",
              "      <td>1686.693106</td>\n",
              "      <td>0.495067</td>\n",
              "      <td>576.125183</td>\n",
              "      <td>601.767633</td>\n",
              "      <td>487.778245</td>\n",
              "      <td>6236.022771</td>\n",
              "      <td>1.235853e+03</td>\n",
              "    </tr>\n",
              "    <tr>\n",
              "      <th>min</th>\n",
              "      <td>-788.000000</td>\n",
              "      <td>0.000000</td>\n",
              "      <td>0.000000</td>\n",
              "      <td>10022.000000</td>\n",
              "      <td>10022.000000</td>\n",
              "      <td>0.000000</td>\n",
              "      <td>0.000000</td>\n",
              "      <td>1.000000e+06</td>\n",
              "    </tr>\n",
              "    <tr>\n",
              "      <th>25%</th>\n",
              "      <td>0.000000</td>\n",
              "      <td>0.000000</td>\n",
              "      <td>0.000000</td>\n",
              "      <td>10254.000000</td>\n",
              "      <td>10213.000000</td>\n",
              "      <td>540.000000</td>\n",
              "      <td>4305.000000</td>\n",
              "      <td>1.001180e+06</td>\n",
              "    </tr>\n",
              "    <tr>\n",
              "      <th>50%</th>\n",
              "      <td>0.000000</td>\n",
              "      <td>0.000000</td>\n",
              "      <td>1.000000</td>\n",
              "      <td>10353.000000</td>\n",
              "      <td>10353.000000</td>\n",
              "      <td>900.000000</td>\n",
              "      <td>6765.000000</td>\n",
              "      <td>1.002206e+06</td>\n",
              "    </tr>\n",
              "    <tr>\n",
              "      <th>75%</th>\n",
              "      <td>41.000000</td>\n",
              "      <td>246.000000</td>\n",
              "      <td>1.000000</td>\n",
              "      <td>11038.000000</td>\n",
              "      <td>11038.000000</td>\n",
              "      <td>1200.000000</td>\n",
              "      <td>10455.000000</td>\n",
              "      <td>1.003120e+06</td>\n",
              "    </tr>\n",
              "    <tr>\n",
              "      <th>max</th>\n",
              "      <td>165197.000000</td>\n",
              "      <td>55350.000000</td>\n",
              "      <td>1.000000</td>\n",
              "      <td>12624.000000</td>\n",
              "      <td>12624.000000</td>\n",
              "      <td>3600.000000</td>\n",
              "      <td>110700.000000</td>\n",
              "      <td>1.004947e+06</td>\n",
              "    </tr>\n",
              "  </tbody>\n",
              "</table>\n",
              "</div>"
            ],
            "text/plain": [
              "       activity_duration  gained_reward  ...  promised_reward          user\n",
              "count       32484.000000   32484.000000  ...     32483.000000  3.248400e+04\n",
              "mean          105.016470     368.522904  ...      7992.652310  1.002218e+06\n",
              "std          1121.028761    1686.693106  ...      6236.022771  1.235853e+03\n",
              "min          -788.000000       0.000000  ...         0.000000  1.000000e+06\n",
              "25%             0.000000       0.000000  ...      4305.000000  1.001180e+06\n",
              "50%             0.000000       0.000000  ...      6765.000000  1.002206e+06\n",
              "75%            41.000000     246.000000  ...     10455.000000  1.003120e+06\n",
              "max        165197.000000   55350.000000  ...    110700.000000  1.004947e+06\n",
              "\n",
              "[8 rows x 8 columns]"
            ]
          },
          "metadata": {
            "tags": []
          },
          "execution_count": 42
        }
      ]
    },
    {
      "cell_type": "code",
      "metadata": {
        "colab": {
          "base_uri": "https://localhost:8080/",
          "height": 317
        },
        "id": "6uCOPjCOPVuR",
        "outputId": "f0c25937-9098-4d7f-9b18-a753a3a09e5c"
      },
      "source": [
        "data.corr()"
      ],
      "execution_count": null,
      "outputs": [
        {
          "output_type": "execute_result",
          "data": {
            "text/html": [
              "<div>\n",
              "<style scoped>\n",
              "    .dataframe tbody tr th:only-of-type {\n",
              "        vertical-align: middle;\n",
              "    }\n",
              "\n",
              "    .dataframe tbody tr th {\n",
              "        vertical-align: top;\n",
              "    }\n",
              "\n",
              "    .dataframe thead th {\n",
              "        text-align: right;\n",
              "    }\n",
              "</style>\n",
              "<table border=\"1\" class=\"dataframe\">\n",
              "  <thead>\n",
              "    <tr style=\"text-align: right;\">\n",
              "      <th></th>\n",
              "      <th>activity_duration</th>\n",
              "      <th>gained_reward</th>\n",
              "      <th>gender</th>\n",
              "      <th>ip_asn_x</th>\n",
              "      <th>ip_asn_y</th>\n",
              "      <th>length_of_activity_in_minutes</th>\n",
              "      <th>promised_reward</th>\n",
              "      <th>user</th>\n",
              "    </tr>\n",
              "  </thead>\n",
              "  <tbody>\n",
              "    <tr>\n",
              "      <th>activity_duration</th>\n",
              "      <td>1.000000</td>\n",
              "      <td>0.188593</td>\n",
              "      <td>-0.013704</td>\n",
              "      <td>-0.003910</td>\n",
              "      <td>-0.006280</td>\n",
              "      <td>-0.000618</td>\n",
              "      <td>0.006975</td>\n",
              "      <td>-0.007795</td>\n",
              "    </tr>\n",
              "    <tr>\n",
              "      <th>gained_reward</th>\n",
              "      <td>0.188593</td>\n",
              "      <td>1.000000</td>\n",
              "      <td>-0.008673</td>\n",
              "      <td>-0.010865</td>\n",
              "      <td>-0.018904</td>\n",
              "      <td>0.012623</td>\n",
              "      <td>0.070120</td>\n",
              "      <td>-0.006376</td>\n",
              "    </tr>\n",
              "    <tr>\n",
              "      <th>gender</th>\n",
              "      <td>-0.013704</td>\n",
              "      <td>-0.008673</td>\n",
              "      <td>1.000000</td>\n",
              "      <td>-0.099173</td>\n",
              "      <td>-0.067251</td>\n",
              "      <td>-0.007708</td>\n",
              "      <td>-0.027580</td>\n",
              "      <td>0.002044</td>\n",
              "    </tr>\n",
              "    <tr>\n",
              "      <th>ip_asn_x</th>\n",
              "      <td>-0.003910</td>\n",
              "      <td>-0.010865</td>\n",
              "      <td>-0.099173</td>\n",
              "      <td>1.000000</td>\n",
              "      <td>0.712644</td>\n",
              "      <td>0.004837</td>\n",
              "      <td>0.009918</td>\n",
              "      <td>-0.021359</td>\n",
              "    </tr>\n",
              "    <tr>\n",
              "      <th>ip_asn_y</th>\n",
              "      <td>-0.006280</td>\n",
              "      <td>-0.018904</td>\n",
              "      <td>-0.067251</td>\n",
              "      <td>0.712644</td>\n",
              "      <td>1.000000</td>\n",
              "      <td>-0.009227</td>\n",
              "      <td>-0.007369</td>\n",
              "      <td>-0.059382</td>\n",
              "    </tr>\n",
              "    <tr>\n",
              "      <th>length_of_activity_in_minutes</th>\n",
              "      <td>-0.000618</td>\n",
              "      <td>0.012623</td>\n",
              "      <td>-0.007708</td>\n",
              "      <td>0.004837</td>\n",
              "      <td>-0.009227</td>\n",
              "      <td>1.000000</td>\n",
              "      <td>0.381638</td>\n",
              "      <td>0.013889</td>\n",
              "    </tr>\n",
              "    <tr>\n",
              "      <th>promised_reward</th>\n",
              "      <td>0.006975</td>\n",
              "      <td>0.070120</td>\n",
              "      <td>-0.027580</td>\n",
              "      <td>0.009918</td>\n",
              "      <td>-0.007369</td>\n",
              "      <td>0.381638</td>\n",
              "      <td>1.000000</td>\n",
              "      <td>-0.045497</td>\n",
              "    </tr>\n",
              "    <tr>\n",
              "      <th>user</th>\n",
              "      <td>-0.007795</td>\n",
              "      <td>-0.006376</td>\n",
              "      <td>0.002044</td>\n",
              "      <td>-0.021359</td>\n",
              "      <td>-0.059382</td>\n",
              "      <td>0.013889</td>\n",
              "      <td>-0.045497</td>\n",
              "      <td>1.000000</td>\n",
              "    </tr>\n",
              "  </tbody>\n",
              "</table>\n",
              "</div>"
            ],
            "text/plain": [
              "                               activity_duration  ...      user\n",
              "activity_duration                       1.000000  ... -0.007795\n",
              "gained_reward                           0.188593  ... -0.006376\n",
              "gender                                 -0.013704  ...  0.002044\n",
              "ip_asn_x                               -0.003910  ... -0.021359\n",
              "ip_asn_y                               -0.006280  ... -0.059382\n",
              "length_of_activity_in_minutes          -0.000618  ...  0.013889\n",
              "promised_reward                         0.006975  ... -0.045497\n",
              "user                                   -0.007795  ...  1.000000\n",
              "\n",
              "[8 rows x 8 columns]"
            ]
          },
          "metadata": {
            "tags": []
          },
          "execution_count": 43
        }
      ]
    },
    {
      "cell_type": "code",
      "metadata": {
        "colab": {
          "base_uri": "https://localhost:8080/"
        },
        "id": "pqYJQcIQPxcu",
        "outputId": "0d5b1922-007e-4201-98cf-f6591dc7785a"
      },
      "source": [
        "data.isna().sum()"
      ],
      "execution_count": null,
      "outputs": [
        {
          "output_type": "execute_result",
          "data": {
            "text/plain": [
              "activity_duration                  0\n",
              "email_domain                       0\n",
              "employment                         0\n",
              "gained_reward                      0\n",
              "gender                           159\n",
              "ip_asn_x                           0\n",
              "ip_asn_y                           1\n",
              "length_of_activity_in_minutes      1\n",
              "marital                            0\n",
              "promised_reward                    1\n",
              "user                               0\n",
              "dtype: int64"
            ]
          },
          "metadata": {
            "tags": []
          },
          "execution_count": 44
        }
      ]
    },
    {
      "cell_type": "code",
      "metadata": {
        "id": "5pktOM9rAvnK"
      },
      "source": [
        "from sklearn.impute import KNNImputer\n",
        "from sklearn.model_selection import train_test_split\n",
        "from sklearn.preprocessing import MinMaxScaler,StandardScaler\n",
        "from sklearn.metrics import mean_squared_error, mean_absolute_error, r2_score\n",
        "from sklearn.metrics import auc, f1_score, precision_recall_curve, precision_score, recall_score\n",
        "from sklearn.metrics import classification_report, confusion_matrix"
      ],
      "execution_count": null,
      "outputs": []
    },
    {
      "cell_type": "code",
      "metadata": {
        "id": "XkYE-1eoNN7k"
      },
      "source": [
        "dt=pd.get_dummies(data[['activity_duration', 'email_domain', 'employment', 'gained_reward',\n",
        "       'gender', 'ip_asn_x', 'ip_asn_y', 'length_of_activity_in_minutes',\n",
        "       'marital', 'promised_reward', 'user']])"
      ],
      "execution_count": null,
      "outputs": []
    },
    {
      "cell_type": "code",
      "metadata": {
        "id": "7XE58n4CXf_n"
      },
      "source": [
        "inputer=KNNImputer(n_neighbors=4)\n",
        "data_fraud=pd.DataFrame(data=inputer.fit_transform(dt),columns=dt.columns)"
      ],
      "execution_count": null,
      "outputs": []
    },
    {
      "cell_type": "code",
      "metadata": {
        "colab": {
          "base_uri": "https://localhost:8080/",
          "height": 224
        },
        "id": "t_zqoLvnNH9d",
        "outputId": "32022a91-8f70-484d-e61b-1f7400f4133f"
      },
      "source": [
        "\n",
        "data_fraud.head()"
      ],
      "execution_count": null,
      "outputs": [
        {
          "output_type": "execute_result",
          "data": {
            "text/html": [
              "<div>\n",
              "<style scoped>\n",
              "    .dataframe tbody tr th:only-of-type {\n",
              "        vertical-align: middle;\n",
              "    }\n",
              "\n",
              "    .dataframe tbody tr th {\n",
              "        vertical-align: top;\n",
              "    }\n",
              "\n",
              "    .dataframe thead th {\n",
              "        text-align: right;\n",
              "    }\n",
              "</style>\n",
              "<table border=\"1\" class=\"dataframe\">\n",
              "  <thead>\n",
              "    <tr style=\"text-align: right;\">\n",
              "      <th></th>\n",
              "      <th>activity_duration</th>\n",
              "      <th>gained_reward</th>\n",
              "      <th>gender</th>\n",
              "      <th>ip_asn_x</th>\n",
              "      <th>ip_asn_y</th>\n",
              "      <th>length_of_activity_in_minutes</th>\n",
              "      <th>promised_reward</th>\n",
              "      <th>user</th>\n",
              "      <th>email_domain_a</th>\n",
              "      <th>email_domain_b</th>\n",
              "      <th>email_domain_c</th>\n",
              "      <th>email_domain_d</th>\n",
              "      <th>email_domain_e</th>\n",
              "      <th>email_domain_f</th>\n",
              "      <th>email_domain_g</th>\n",
              "      <th>employment_a</th>\n",
              "      <th>employment_b</th>\n",
              "      <th>employment_c</th>\n",
              "      <th>employment_d</th>\n",
              "      <th>employment_e</th>\n",
              "      <th>employment_f</th>\n",
              "      <th>employment_g</th>\n",
              "      <th>employment_h</th>\n",
              "      <th>employment_i</th>\n",
              "      <th>employment_j</th>\n",
              "      <th>employment_k</th>\n",
              "      <th>marital_Divorced</th>\n",
              "      <th>marital_Married</th>\n",
              "      <th>marital_Single</th>\n",
              "    </tr>\n",
              "  </thead>\n",
              "  <tbody>\n",
              "    <tr>\n",
              "      <th>0</th>\n",
              "      <td>35.0</td>\n",
              "      <td>369.0</td>\n",
              "      <td>1.0</td>\n",
              "      <td>11202.0</td>\n",
              "      <td>11202.0</td>\n",
              "      <td>1500.0</td>\n",
              "      <td>12300.0</td>\n",
              "      <td>1000000.0</td>\n",
              "      <td>0.0</td>\n",
              "      <td>0.0</td>\n",
              "      <td>1.0</td>\n",
              "      <td>0.0</td>\n",
              "      <td>0.0</td>\n",
              "      <td>0.0</td>\n",
              "      <td>0.0</td>\n",
              "      <td>0.0</td>\n",
              "      <td>0.0</td>\n",
              "      <td>0.0</td>\n",
              "      <td>0.0</td>\n",
              "      <td>0.0</td>\n",
              "      <td>0.0</td>\n",
              "      <td>0.0</td>\n",
              "      <td>0.0</td>\n",
              "      <td>1.0</td>\n",
              "      <td>0.0</td>\n",
              "      <td>0.0</td>\n",
              "      <td>0.0</td>\n",
              "      <td>1.0</td>\n",
              "      <td>0.0</td>\n",
              "    </tr>\n",
              "    <tr>\n",
              "      <th>1</th>\n",
              "      <td>0.0</td>\n",
              "      <td>0.0</td>\n",
              "      <td>1.0</td>\n",
              "      <td>11202.0</td>\n",
              "      <td>11202.0</td>\n",
              "      <td>1500.0</td>\n",
              "      <td>12300.0</td>\n",
              "      <td>1000000.0</td>\n",
              "      <td>0.0</td>\n",
              "      <td>0.0</td>\n",
              "      <td>1.0</td>\n",
              "      <td>0.0</td>\n",
              "      <td>0.0</td>\n",
              "      <td>0.0</td>\n",
              "      <td>0.0</td>\n",
              "      <td>0.0</td>\n",
              "      <td>0.0</td>\n",
              "      <td>0.0</td>\n",
              "      <td>0.0</td>\n",
              "      <td>0.0</td>\n",
              "      <td>0.0</td>\n",
              "      <td>0.0</td>\n",
              "      <td>0.0</td>\n",
              "      <td>1.0</td>\n",
              "      <td>0.0</td>\n",
              "      <td>0.0</td>\n",
              "      <td>0.0</td>\n",
              "      <td>1.0</td>\n",
              "      <td>0.0</td>\n",
              "    </tr>\n",
              "    <tr>\n",
              "      <th>2</th>\n",
              "      <td>85.0</td>\n",
              "      <td>246.0</td>\n",
              "      <td>1.0</td>\n",
              "      <td>11202.0</td>\n",
              "      <td>11202.0</td>\n",
              "      <td>120.0</td>\n",
              "      <td>3075.0</td>\n",
              "      <td>1000015.0</td>\n",
              "      <td>0.0</td>\n",
              "      <td>0.0</td>\n",
              "      <td>0.0</td>\n",
              "      <td>0.0</td>\n",
              "      <td>0.0</td>\n",
              "      <td>1.0</td>\n",
              "      <td>0.0</td>\n",
              "      <td>0.0</td>\n",
              "      <td>0.0</td>\n",
              "      <td>0.0</td>\n",
              "      <td>1.0</td>\n",
              "      <td>0.0</td>\n",
              "      <td>0.0</td>\n",
              "      <td>0.0</td>\n",
              "      <td>0.0</td>\n",
              "      <td>0.0</td>\n",
              "      <td>0.0</td>\n",
              "      <td>0.0</td>\n",
              "      <td>0.0</td>\n",
              "      <td>1.0</td>\n",
              "      <td>0.0</td>\n",
              "    </tr>\n",
              "    <tr>\n",
              "      <th>3</th>\n",
              "      <td>0.0</td>\n",
              "      <td>0.0</td>\n",
              "      <td>1.0</td>\n",
              "      <td>11202.0</td>\n",
              "      <td>11202.0</td>\n",
              "      <td>120.0</td>\n",
              "      <td>3075.0</td>\n",
              "      <td>1000015.0</td>\n",
              "      <td>0.0</td>\n",
              "      <td>0.0</td>\n",
              "      <td>0.0</td>\n",
              "      <td>0.0</td>\n",
              "      <td>0.0</td>\n",
              "      <td>1.0</td>\n",
              "      <td>0.0</td>\n",
              "      <td>0.0</td>\n",
              "      <td>0.0</td>\n",
              "      <td>0.0</td>\n",
              "      <td>1.0</td>\n",
              "      <td>0.0</td>\n",
              "      <td>0.0</td>\n",
              "      <td>0.0</td>\n",
              "      <td>0.0</td>\n",
              "      <td>0.0</td>\n",
              "      <td>0.0</td>\n",
              "      <td>0.0</td>\n",
              "      <td>0.0</td>\n",
              "      <td>1.0</td>\n",
              "      <td>0.0</td>\n",
              "    </tr>\n",
              "    <tr>\n",
              "      <th>4</th>\n",
              "      <td>1095.0</td>\n",
              "      <td>7380.0</td>\n",
              "      <td>1.0</td>\n",
              "      <td>11202.0</td>\n",
              "      <td>11202.0</td>\n",
              "      <td>900.0</td>\n",
              "      <td>7380.0</td>\n",
              "      <td>1000015.0</td>\n",
              "      <td>0.0</td>\n",
              "      <td>0.0</td>\n",
              "      <td>0.0</td>\n",
              "      <td>0.0</td>\n",
              "      <td>0.0</td>\n",
              "      <td>1.0</td>\n",
              "      <td>0.0</td>\n",
              "      <td>0.0</td>\n",
              "      <td>0.0</td>\n",
              "      <td>0.0</td>\n",
              "      <td>1.0</td>\n",
              "      <td>0.0</td>\n",
              "      <td>0.0</td>\n",
              "      <td>0.0</td>\n",
              "      <td>0.0</td>\n",
              "      <td>0.0</td>\n",
              "      <td>0.0</td>\n",
              "      <td>0.0</td>\n",
              "      <td>0.0</td>\n",
              "      <td>1.0</td>\n",
              "      <td>0.0</td>\n",
              "    </tr>\n",
              "  </tbody>\n",
              "</table>\n",
              "</div>"
            ],
            "text/plain": [
              "   activity_duration  gained_reward  ...  marital_Married  marital_Single\n",
              "0               35.0          369.0  ...              1.0             0.0\n",
              "1                0.0            0.0  ...              1.0             0.0\n",
              "2               85.0          246.0  ...              1.0             0.0\n",
              "3                0.0            0.0  ...              1.0             0.0\n",
              "4             1095.0         7380.0  ...              1.0             0.0\n",
              "\n",
              "[5 rows x 29 columns]"
            ]
          },
          "metadata": {
            "tags": []
          },
          "execution_count": 50
        }
      ]
    },
    {
      "cell_type": "code",
      "metadata": {
        "id": "ke6gC4DOQfiM",
        "colab": {
          "base_uri": "https://localhost:8080/"
        },
        "outputId": "73421c01-b33c-4eab-e4ce-1af938200466"
      },
      "source": [
        "data_fraud.isna().sum()"
      ],
      "execution_count": null,
      "outputs": [
        {
          "output_type": "execute_result",
          "data": {
            "text/plain": [
              "activity_duration                0\n",
              "gained_reward                    0\n",
              "gender                           0\n",
              "ip_asn_x                         0\n",
              "ip_asn_y                         0\n",
              "length_of_activity_in_minutes    0\n",
              "promised_reward                  0\n",
              "user                             0\n",
              "email_domain_a                   0\n",
              "email_domain_b                   0\n",
              "email_domain_c                   0\n",
              "email_domain_d                   0\n",
              "email_domain_e                   0\n",
              "email_domain_f                   0\n",
              "email_domain_g                   0\n",
              "employment_a                     0\n",
              "employment_b                     0\n",
              "employment_c                     0\n",
              "employment_d                     0\n",
              "employment_e                     0\n",
              "employment_f                     0\n",
              "employment_g                     0\n",
              "employment_h                     0\n",
              "employment_i                     0\n",
              "employment_j                     0\n",
              "employment_k                     0\n",
              "marital_Divorced                 0\n",
              "marital_Married                  0\n",
              "marital_Single                   0\n",
              "dtype: int64"
            ]
          },
          "metadata": {
            "tags": []
          },
          "execution_count": 51
        }
      ]
    },
    {
      "cell_type": "code",
      "metadata": {
        "colab": {
          "base_uri": "https://localhost:8080/"
        },
        "id": "J1i65P6v-7t8",
        "outputId": "6d52f82b-501f-4893-8611-696f8d7ed0ce"
      },
      "source": [
        "data_fraud.info()"
      ],
      "execution_count": null,
      "outputs": [
        {
          "output_type": "stream",
          "text": [
            "<class 'pandas.core.frame.DataFrame'>\n",
            "RangeIndex: 32484 entries, 0 to 32483\n",
            "Data columns (total 29 columns):\n",
            " #   Column                         Non-Null Count  Dtype  \n",
            "---  ------                         --------------  -----  \n",
            " 0   activity_duration              32484 non-null  float64\n",
            " 1   gained_reward                  32484 non-null  float64\n",
            " 2   gender                         32484 non-null  float64\n",
            " 3   ip_asn_x                       32484 non-null  float64\n",
            " 4   ip_asn_y                       32484 non-null  float64\n",
            " 5   length_of_activity_in_minutes  32484 non-null  float64\n",
            " 6   promised_reward                32484 non-null  float64\n",
            " 7   user                           32484 non-null  float64\n",
            " 8   email_domain_a                 32484 non-null  float64\n",
            " 9   email_domain_b                 32484 non-null  float64\n",
            " 10  email_domain_c                 32484 non-null  float64\n",
            " 11  email_domain_d                 32484 non-null  float64\n",
            " 12  email_domain_e                 32484 non-null  float64\n",
            " 13  email_domain_f                 32484 non-null  float64\n",
            " 14  email_domain_g                 32484 non-null  float64\n",
            " 15  employment_a                   32484 non-null  float64\n",
            " 16  employment_b                   32484 non-null  float64\n",
            " 17  employment_c                   32484 non-null  float64\n",
            " 18  employment_d                   32484 non-null  float64\n",
            " 19  employment_e                   32484 non-null  float64\n",
            " 20  employment_f                   32484 non-null  float64\n",
            " 21  employment_g                   32484 non-null  float64\n",
            " 22  employment_h                   32484 non-null  float64\n",
            " 23  employment_i                   32484 non-null  float64\n",
            " 24  employment_j                   32484 non-null  float64\n",
            " 25  employment_k                   32484 non-null  float64\n",
            " 26  marital_Divorced               32484 non-null  float64\n",
            " 27  marital_Married                32484 non-null  float64\n",
            " 28  marital_Single                 32484 non-null  float64\n",
            "dtypes: float64(29)\n",
            "memory usage: 7.2 MB\n"
          ],
          "name": "stdout"
        }
      ]
    },
    {
      "cell_type": "markdown",
      "metadata": {
        "id": "nY6aYkFyjkUH"
      },
      "source": [
        "### PCA"
      ]
    },
    {
      "cell_type": "code",
      "metadata": {
        "id": "lNXFSAMkh4-t"
      },
      "source": [
        "X_scaled=StandardScaler().fit_transform(data_fraud)\n",
        "features=X_scaled.T\n",
        "cov_matrix=np.cov(features)\n",
        "values,vectors=np.linalg.eig(cov_matrix)"
      ],
      "execution_count": null,
      "outputs": []
    },
    {
      "cell_type": "code",
      "metadata": {
        "colab": {
          "base_uri": "https://localhost:8080/"
        },
        "id": "4U3I12Ma15dC",
        "outputId": "14aee57f-f0bf-457a-f3f4-55ec929323f7"
      },
      "source": [
        "vectors.shape"
      ],
      "execution_count": null,
      "outputs": [
        {
          "output_type": "execute_result",
          "data": {
            "text/plain": [
              "(29, 29)"
            ]
          },
          "metadata": {
            "tags": []
          },
          "execution_count": 54
        }
      ]
    },
    {
      "cell_type": "code",
      "metadata": {
        "id": "P_DvAbiTjvJc"
      },
      "source": [
        "explaned_variance=[]\n",
        "for i in range(len(values)):\n",
        "    explaned_variance.append(values[i]/(np.sum(values)))"
      ],
      "execution_count": null,
      "outputs": []
    },
    {
      "cell_type": "code",
      "metadata": {
        "colab": {
          "base_uri": "https://localhost:8080/"
        },
        "id": "dp1qzH-Ajzm8",
        "outputId": "19382fe9-f515-4f6e-ea2c-ad1f0b6a55df"
      },
      "source": [
        "print(explaned_variance)"
      ],
      "execution_count": null,
      "outputs": [
        {
          "output_type": "stream",
          "text": [
            "[0.11892268215718707, 0.061343899390204, 0.009605714407560157, 0.01584359743120529, 0.020947717969182243, 0.022328967258684003, 0.049973207209580754, 0.0487985721941275, 0.04798880058035832, 0.027093793047606587, 0.028041696412845325, 0.029218399877029406, 0.042587331307247046, 0.04158470989719513, 0.04119170273702817, 0.04040247647457572, 0.03112033172065577, 0.039422104772813875, 0.038604050872768296, 0.03805435606296599, 0.03232938828560197, 0.03321060845926892, 0.034076126809061996, 0.03642340802760354, 0.03531123197114691, 0.03557512466649609, 6.911513482502709e-17, 1.7568915909293848e-18, 3.8278712224898e-17]\n"
          ],
          "name": "stdout"
        }
      ]
    },
    {
      "cell_type": "code",
      "metadata": {
        "id": "fVdttYUU2sBD"
      },
      "source": [
        "explaned_variance.sort(reverse=True)"
      ],
      "execution_count": null,
      "outputs": []
    },
    {
      "cell_type": "code",
      "metadata": {
        "colab": {
          "base_uri": "https://localhost:8080/"
        },
        "id": "F0WUC3vw3V1r",
        "outputId": "8113a914-8fea-44a8-e254-2ea9aaa48155"
      },
      "source": [
        "explaned_variance"
      ],
      "execution_count": null,
      "outputs": [
        {
          "output_type": "execute_result",
          "data": {
            "text/plain": [
              "[0.11892268215718707,\n",
              " 0.061343899390204,\n",
              " 0.049973207209580754,\n",
              " 0.0487985721941275,\n",
              " 0.04798880058035832,\n",
              " 0.042587331307247046,\n",
              " 0.04158470989719513,\n",
              " 0.04119170273702817,\n",
              " 0.04040247647457572,\n",
              " 0.039422104772813875,\n",
              " 0.038604050872768296,\n",
              " 0.03805435606296599,\n",
              " 0.03642340802760354,\n",
              " 0.03557512466649609,\n",
              " 0.03531123197114691,\n",
              " 0.034076126809061996,\n",
              " 0.03321060845926892,\n",
              " 0.03232938828560197,\n",
              " 0.03112033172065577,\n",
              " 0.029218399877029406,\n",
              " 0.028041696412845325,\n",
              " 0.027093793047606587,\n",
              " 0.022328967258684003,\n",
              " 0.020947717969182243,\n",
              " 0.01584359743120529,\n",
              " 0.009605714407560157,\n",
              " 6.911513482502709e-17,\n",
              " 3.8278712224898e-17,\n",
              " 1.7568915909293848e-18]"
            ]
          },
          "metadata": {
            "tags": []
          },
          "execution_count": 58
        }
      ]
    },
    {
      "cell_type": "code",
      "metadata": {
        "id": "46awif2Fj5kK",
        "colab": {
          "base_uri": "https://localhost:8080/",
          "height": 280
        },
        "outputId": "2cdde18d-993d-495c-afe9-a4b98f48b5ee"
      },
      "source": [
        "from sklearn import decomposition\n",
        "pca = decomposition.PCA()\n",
        "pca.n_components = 29\n",
        "pca_data = pca.fit_transform(X_scaled)\n",
        "\n",
        "percentage_var_explained = pca.explained_variance_ / np.sum(pca.explained_variance_);\n",
        "\n",
        "cum_var_explained = np.cumsum(percentage_var_explained)\n",
        "\n",
        "# Plot the PCA spectrum\n",
        "plt.figure(1, figsize=(6, 4))\n",
        "\n",
        "plt.clf()\n",
        "plt.plot(cum_var_explained, linewidth=2)\n",
        "plt.axis('tight')\n",
        "plt.grid()\n",
        "plt.xlabel('n_components')\n",
        "plt.ylabel('Cumulative_explained_variance')\n",
        "plt.show()\n",
        "\n"
      ],
      "execution_count": null,
      "outputs": [
        {
          "output_type": "display_data",
          "data": {
            "image/png": "[encoded data removed]",
            "text/plain": [
              "<Figure size 432x288 with 1 Axes>"
            ]
          },
          "metadata": {
            "tags": [],
            "needs_background": "light"
          }
        }
      ]
    },
    {
      "cell_type": "code",
      "metadata": {
        "id": "JvIwjzws2jAx"
      },
      "source": [
        "# If we take 20-dimensions, approx. 90% of variance is expalined"
      ],
      "execution_count": null,
      "outputs": []
    },
    {
      "cell_type": "markdown",
      "metadata": {
        "id": "ePnq-HBVk3S4"
      },
      "source": [
        "### let's do classification"
      ]
    },
    {
      "cell_type": "code",
      "metadata": {
        "id": "Z8M0Ox0YkswP"
      },
      "source": [
        "#import lazypredict"
      ],
      "execution_count": null,
      "outputs": []
    },
    {
      "cell_type": "code",
      "metadata": {
        "id": "YLEFC1Wnkt9A"
      },
      "source": [
        "#from lazypredict.Supervised import LazyClassifier"
      ],
      "execution_count": null,
      "outputs": []
    },
    {
      "cell_type": "code",
      "metadata": {
        "id": "XmkLRFJ8lzjZ"
      },
      "source": [
        "from sklearn.model_selection import train_test_split"
      ],
      "execution_count": null,
      "outputs": []
    },
    {
      "cell_type": "code",
      "metadata": {
        "id": "fzvCu39sl_AN"
      },
      "source": [
        "X_train,X_test,y_train,y_test=train_test_split(X_scaled,target,test_size=0.2,random_state=40)"
      ],
      "execution_count": null,
      "outputs": []
    },
    {
      "cell_type": "code",
      "metadata": {
        "id": "FPutSz_I3zKR"
      },
      "source": [
        "from sklearn.svm import SVC\n",
        "from sklearn.ensemble import BaggingClassifier\n",
        "from sklearn.naive_bayes import GaussianNB\n",
        "from sklearn.linear_model import LogisticRegression\n",
        "from sklearn.ensemble import RandomForestClassifier\n",
        "from sklearn.tree import DecisionTreeClassifier\n",
        "from sklearn.discriminant_analysis import LinearDiscriminantAnalysis,QuadraticDiscriminantAnalysis\n",
        "from sklearn.ensemble import GradientBoostingClassifier\n",
        "from sklearn.ensemble import StackingClassifier\n",
        "from sklearn.neighbors import KNeighborsClassifier"
      ],
      "execution_count": null,
      "outputs": []
    },
    {
      "cell_type": "markdown",
      "metadata": {
        "id": "vyCf5Qg40ZWC"
      },
      "source": [
        "#### random forest"
      ]
    },
    {
      "cell_type": "code",
      "metadata": {
        "colab": {
          "base_uri": "https://localhost:8080/"
        },
        "id": "hJBJuvef0b6J",
        "outputId": "dcdc4239-c1f3-41de-97f2-879577d0272a"
      },
      "source": [
        "Rf = RandomForestClassifier(n_estimators=10, random_state=42)\n",
        "Rf.fit(X_train,y_train)\n"
      ],
      "execution_count": null,
      "outputs": [
        {
          "output_type": "execute_result",
          "data": {
            "text/plain": [
              "RandomForestClassifier(bootstrap=True, ccp_alpha=0.0, class_weight=None,\n",
              "                       criterion='gini', max_depth=None, max_features='auto',\n",
              "                       max_leaf_nodes=None, max_samples=None,\n",
              "                       min_impurity_decrease=0.0, min_impurity_split=None,\n",
              "                       min_samples_leaf=1, min_samples_split=2,\n",
              "                       min_weight_fraction_leaf=0.0, n_estimators=10,\n",
              "                       n_jobs=None, oob_score=False, random_state=42, verbose=0,\n",
              "                       warm_start=False)"
            ]
          },
          "metadata": {
            "tags": []
          },
          "execution_count": 65
        }
      ]
    },
    {
      "cell_type": "code",
      "metadata": {
        "colab": {
          "base_uri": "https://localhost:8080/"
        },
        "id": "8L3nAT-f1QHR",
        "outputId": "5724187f-83a7-4086-c7ce-bf62c9c0f4d9"
      },
      "source": [
        "print('test',classification_report(y_test,Rf.predict(X_test)))\n",
        "print('train',classification_report(y_train,Rf.predict(X_train)))"
      ],
      "execution_count": null,
      "outputs": [
        {
          "output_type": "stream",
          "text": [
            "test               precision    recall  f1-score   support\n",
            "\n",
            "           0       0.99      0.99      0.99      5007\n",
            "           1       0.98      0.97      0.97      1490\n",
            "\n",
            "    accuracy                           0.99      6497\n",
            "   macro avg       0.98      0.98      0.98      6497\n",
            "weighted avg       0.99      0.99      0.99      6497\n",
            "\n",
            "train               precision    recall  f1-score   support\n",
            "\n",
            "           0       1.00      1.00      1.00     20083\n",
            "           1       1.00      1.00      1.00      5904\n",
            "\n",
            "    accuracy                           1.00     25987\n",
            "   macro avg       1.00      1.00      1.00     25987\n",
            "weighted avg       1.00      1.00      1.00     25987\n",
            "\n"
          ],
          "name": "stdout"
        }
      ]
    },
    {
      "cell_type": "markdown",
      "metadata": {
        "id": "CQztr4Yc0vdo"
      },
      "source": [
        "#### logistic reg"
      ]
    },
    {
      "cell_type": "code",
      "metadata": {
        "id": "iUeHqaF40450",
        "colab": {
          "base_uri": "https://localhost:8080/"
        },
        "outputId": "6ad19523-b543-429b-f767-fa0a5c2f4529"
      },
      "source": [
        "lg=LogisticRegression()\n",
        "lg.fit(X_train,y_train)"
      ],
      "execution_count": null,
      "outputs": [
        {
          "output_type": "execute_result",
          "data": {
            "text/plain": [
              "LogisticRegression(C=1.0, class_weight=None, dual=False, fit_intercept=True,\n",
              "                   intercept_scaling=1, l1_ratio=None, max_iter=100,\n",
              "                   multi_class='auto', n_jobs=None, penalty='l2',\n",
              "                   random_state=None, solver='lbfgs', tol=0.0001, verbose=0,\n",
              "                   warm_start=False)"
            ]
          },
          "metadata": {
            "tags": []
          },
          "execution_count": 67
        }
      ]
    },
    {
      "cell_type": "code",
      "metadata": {
        "id": "YlbQlznC09v8",
        "colab": {
          "base_uri": "https://localhost:8080/"
        },
        "outputId": "4d887529-0003-40ee-8cdd-a9372bd997ab"
      },
      "source": [
        "print('test',classification_report(y_test,lg.predict(X_test)))\n",
        "print('train',classification_report(y_train,lg.predict(X_train)))"
      ],
      "execution_count": null,
      "outputs": [
        {
          "output_type": "stream",
          "text": [
            "test               precision    recall  f1-score   support\n",
            "\n",
            "           0       0.88      0.91      0.89      5007\n",
            "           1       0.65      0.59      0.62      1490\n",
            "\n",
            "    accuracy                           0.83      6497\n",
            "   macro avg       0.77      0.75      0.76      6497\n",
            "weighted avg       0.83      0.83      0.83      6497\n",
            "\n",
            "train               precision    recall  f1-score   support\n",
            "\n",
            "           0       0.88      0.90      0.89     20083\n",
            "           1       0.65      0.59      0.62      5904\n",
            "\n",
            "    accuracy                           0.83     25987\n",
            "   macro avg       0.76      0.75      0.76     25987\n",
            "weighted avg       0.83      0.83      0.83     25987\n",
            "\n"
          ],
          "name": "stdout"
        }
      ]
    },
    {
      "cell_type": "markdown",
      "metadata": {
        "id": "3hi6FnH54d48"
      },
      "source": [
        "####  LinearDiscriminantAnalysis"
      ]
    },
    {
      "cell_type": "code",
      "metadata": {
        "colab": {
          "base_uri": "https://localhost:8080/"
        },
        "id": "oQ3C5cXy1XA_",
        "outputId": "09a211b7-1460-482e-e141-643ae507900d"
      },
      "source": [
        "lda=LinearDiscriminantAnalysis()\n",
        "lda.fit(X_train,y_train)"
      ],
      "execution_count": null,
      "outputs": [
        {
          "output_type": "execute_result",
          "data": {
            "text/plain": [
              "LinearDiscriminantAnalysis(n_components=None, priors=None, shrinkage=None,\n",
              "                           solver='svd', store_covariance=False, tol=0.0001)"
            ]
          },
          "metadata": {
            "tags": []
          },
          "execution_count": 69
        }
      ]
    },
    {
      "cell_type": "code",
      "metadata": {
        "colab": {
          "base_uri": "https://localhost:8080/"
        },
        "id": "ckHYMLxq4792",
        "outputId": "c9e178e7-0781-4ee0-d191-6a66fe9cb5b5"
      },
      "source": [
        "print('test',classification_report(y_test,lda.predict(X_test)))\n",
        "print('train',classification_report(y_train,lda.predict(X_train)))"
      ],
      "execution_count": null,
      "outputs": [
        {
          "output_type": "stream",
          "text": [
            "test               precision    recall  f1-score   support\n",
            "\n",
            "           0       0.90      0.89      0.90      5007\n",
            "           1       0.65      0.66      0.65      1490\n",
            "\n",
            "    accuracy                           0.84      6497\n",
            "   macro avg       0.77      0.78      0.77      6497\n",
            "weighted avg       0.84      0.84      0.84      6497\n",
            "\n",
            "train               precision    recall  f1-score   support\n",
            "\n",
            "           0       0.90      0.89      0.89     20083\n",
            "           1       0.64      0.66      0.65      5904\n",
            "\n",
            "    accuracy                           0.84     25987\n",
            "   macro avg       0.77      0.78      0.77     25987\n",
            "weighted avg       0.84      0.84      0.84     25987\n",
            "\n"
          ],
          "name": "stdout"
        }
      ]
    },
    {
      "cell_type": "markdown",
      "metadata": {
        "id": "F7X8hF0S5cXR"
      },
      "source": [
        "#### QuadraticDiscriminantAnalysis"
      ]
    },
    {
      "cell_type": "code",
      "metadata": {
        "colab": {
          "base_uri": "https://localhost:8080/"
        },
        "id": "QX_gD_1L5hyn",
        "outputId": "27ad5f0e-e789-4930-9fc3-a3163933b6c3"
      },
      "source": [
        "qda=QuadraticDiscriminantAnalysis()\n",
        "qda.fit(X_train,y_train)\n"
      ],
      "execution_count": null,
      "outputs": [
        {
          "output_type": "stream",
          "text": [
            "/usr/local/lib/python3.7/dist-packages/sklearn/discriminant_analysis.py:691: UserWarning: Variables are collinear\n",
            "  warnings.warn(\"Variables are collinear\")\n"
          ],
          "name": "stderr"
        },
        {
          "output_type": "execute_result",
          "data": {
            "text/plain": [
              "QuadraticDiscriminantAnalysis(priors=None, reg_param=0.0,\n",
              "                              store_covariance=False, tol=0.0001)"
            ]
          },
          "metadata": {
            "tags": []
          },
          "execution_count": 71
        }
      ]
    },
    {
      "cell_type": "code",
      "metadata": {
        "colab": {
          "base_uri": "https://localhost:8080/"
        },
        "id": "-fnlJVLY53m-",
        "outputId": "a2d12ae1-6f87-4486-9728-776e87417811"
      },
      "source": [
        "print('test',classification_report(y_test,qda.predict(X_test)))\n",
        "print('train',classification_report(y_train,qda.predict(X_train)))"
      ],
      "execution_count": null,
      "outputs": [
        {
          "output_type": "stream",
          "text": [
            "test               precision    recall  f1-score   support\n",
            "\n",
            "           0       0.98      0.40      0.57      5007\n",
            "           1       0.33      0.97      0.49      1490\n",
            "\n",
            "    accuracy                           0.53      6497\n",
            "   macro avg       0.65      0.69      0.53      6497\n",
            "weighted avg       0.83      0.53      0.55      6497\n",
            "\n",
            "train               precision    recall  f1-score   support\n",
            "\n",
            "           0       0.98      0.39      0.56     20083\n",
            "           1       0.32      0.97      0.48      5904\n",
            "\n",
            "    accuracy                           0.52     25987\n",
            "   macro avg       0.65      0.68      0.52     25987\n",
            "weighted avg       0.83      0.52      0.54     25987\n",
            "\n"
          ],
          "name": "stdout"
        }
      ]
    },
    {
      "cell_type": "markdown",
      "metadata": {
        "id": "M9MBluTVA6_8"
      },
      "source": [
        "#### GaussianNB"
      ]
    },
    {
      "cell_type": "code",
      "metadata": {
        "id": "JKiFCwZN6zNx",
        "colab": {
          "base_uri": "https://localhost:8080/"
        },
        "outputId": "619d7540-4117-480f-d442-bb2ce3b363ff"
      },
      "source": [
        "NB=GaussianNB()\n",
        "NB.fit(X_train,y_train)"
      ],
      "execution_count": null,
      "outputs": [
        {
          "output_type": "execute_result",
          "data": {
            "text/plain": [
              "GaussianNB(priors=None, var_smoothing=1e-09)"
            ]
          },
          "metadata": {
            "tags": []
          },
          "execution_count": 73
        }
      ]
    },
    {
      "cell_type": "code",
      "metadata": {
        "colab": {
          "base_uri": "https://localhost:8080/"
        },
        "id": "mhX3sqV7BI2j",
        "outputId": "6b944496-1409-47ed-ca4e-0a02f587a4fc"
      },
      "source": [
        "print('test',classification_report(y_test,NB.predict(X_test)))\n",
        "print('train',classification_report(y_train,NB.predict(X_train)))"
      ],
      "execution_count": null,
      "outputs": [
        {
          "output_type": "stream",
          "text": [
            "test               precision    recall  f1-score   support\n",
            "\n",
            "           0       0.96      0.54      0.69      5007\n",
            "           1       0.38      0.93      0.54      1490\n",
            "\n",
            "    accuracy                           0.63      6497\n",
            "   macro avg       0.67      0.74      0.62      6497\n",
            "weighted avg       0.83      0.63      0.66      6497\n",
            "\n",
            "train               precision    recall  f1-score   support\n",
            "\n",
            "           0       0.96      0.54      0.69     20083\n",
            "           1       0.37      0.93      0.53      5904\n",
            "\n",
            "    accuracy                           0.63     25987\n",
            "   macro avg       0.67      0.74      0.61     25987\n",
            "weighted avg       0.83      0.63      0.66     25987\n",
            "\n"
          ],
          "name": "stdout"
        }
      ]
    },
    {
      "cell_type": "markdown",
      "metadata": {
        "id": "8rm_9MdhBtEZ"
      },
      "source": [
        "#### KNeighborsClassifier"
      ]
    },
    {
      "cell_type": "code",
      "metadata": {
        "colab": {
          "base_uri": "https://localhost:8080/"
        },
        "id": "Azy3DAspBX-A",
        "outputId": "4f6be82a-b3cc-479d-b7b9-378a2f975887"
      },
      "source": [
        "knn=KNeighborsClassifier(n_neighbors=3)\n",
        "knn.fit(X_train,y_train)"
      ],
      "execution_count": null,
      "outputs": [
        {
          "output_type": "execute_result",
          "data": {
            "text/plain": [
              "KNeighborsClassifier(algorithm='auto', leaf_size=30, metric='minkowski',\n",
              "                     metric_params=None, n_jobs=None, n_neighbors=3, p=2,\n",
              "                     weights='uniform')"
            ]
          },
          "metadata": {
            "tags": []
          },
          "execution_count": 75
        }
      ]
    },
    {
      "cell_type": "code",
      "metadata": {
        "colab": {
          "base_uri": "https://localhost:8080/"
        },
        "id": "cQIrqRaEB3vr",
        "outputId": "8520424d-dcfb-427f-87dc-ebed3a54f762"
      },
      "source": [
        "print('test',classification_report(y_test,knn.predict(X_test)))\n",
        "print('train',classification_report(y_train,knn.predict(X_train)))"
      ],
      "execution_count": null,
      "outputs": [
        {
          "output_type": "stream",
          "text": [
            "test               precision    recall  f1-score   support\n",
            "\n",
            "           0       0.96      0.96      0.96      5007\n",
            "           1       0.87      0.87      0.87      1490\n",
            "\n",
            "    accuracy                           0.94      6497\n",
            "   macro avg       0.91      0.91      0.91      6497\n",
            "weighted avg       0.94      0.94      0.94      6497\n",
            "\n",
            "train               precision    recall  f1-score   support\n",
            "\n",
            "           0       0.98      0.98      0.98     20083\n",
            "           1       0.95      0.95      0.95      5904\n",
            "\n",
            "    accuracy                           0.98     25987\n",
            "   macro avg       0.97      0.97      0.97     25987\n",
            "weighted avg       0.98      0.98      0.98     25987\n",
            "\n"
          ],
          "name": "stdout"
        }
      ]
    },
    {
      "cell_type": "markdown",
      "metadata": {
        "id": "5cTCLT3ACXog"
      },
      "source": [
        "##### GradientBoostingClassifier"
      ]
    },
    {
      "cell_type": "code",
      "metadata": {
        "colab": {
          "base_uri": "https://localhost:8080/"
        },
        "id": "byLDsH9oCbiw",
        "outputId": "748fd159-5a9e-4dab-cfff-88f91cf25424"
      },
      "source": [
        "clf = GradientBoostingClassifier(n_estimators=80, learning_rate=1.0,max_depth=1, random_state=0)\n",
        "clf.fit(X_train, y_train)"
      ],
      "execution_count": null,
      "outputs": [
        {
          "output_type": "execute_result",
          "data": {
            "text/plain": [
              "GradientBoostingClassifier(ccp_alpha=0.0, criterion='friedman_mse', init=None,\n",
              "                           learning_rate=1.0, loss='deviance', max_depth=1,\n",
              "                           max_features=None, max_leaf_nodes=None,\n",
              "                           min_impurity_decrease=0.0, min_impurity_split=None,\n",
              "                           min_samples_leaf=1, min_samples_split=2,\n",
              "                           min_weight_fraction_leaf=0.0, n_estimators=80,\n",
              "                           n_iter_no_change=None, presort='deprecated',\n",
              "                           random_state=0, subsample=1.0, tol=0.0001,\n",
              "                           validation_fraction=0.1, verbose=0,\n",
              "                           warm_start=False)"
            ]
          },
          "metadata": {
            "tags": []
          },
          "execution_count": 77
        }
      ]
    },
    {
      "cell_type": "code",
      "metadata": {
        "colab": {
          "base_uri": "https://localhost:8080/"
        },
        "id": "24jfkaGZCqpH",
        "outputId": "ac3d8e4c-ff2a-45f3-a2e1-4f5973977c36"
      },
      "source": [
        "print('test',classification_report(y_test,clf.predict(X_test)))\n",
        "print('train',classification_report(y_train,clf.predict(X_train)))"
      ],
      "execution_count": null,
      "outputs": [
        {
          "output_type": "stream",
          "text": [
            "test               precision    recall  f1-score   support\n",
            "\n",
            "           0       0.91      0.92      0.92      5007\n",
            "           1       0.73      0.70      0.71      1490\n",
            "\n",
            "    accuracy                           0.87      6497\n",
            "   macro avg       0.82      0.81      0.82      6497\n",
            "weighted avg       0.87      0.87      0.87      6497\n",
            "\n",
            "train               precision    recall  f1-score   support\n",
            "\n",
            "           0       0.91      0.93      0.92     20083\n",
            "           1       0.74      0.71      0.72      5904\n",
            "\n",
            "    accuracy                           0.88     25987\n",
            "   macro avg       0.83      0.82      0.82     25987\n",
            "weighted avg       0.87      0.88      0.87     25987\n",
            "\n"
          ],
          "name": "stdout"
        }
      ]
    },
    {
      "cell_type": "markdown",
      "metadata": {
        "id": "kV14uyTwDChg"
      },
      "source": [
        "#### StackingClassifier\n",
        "\n"
      ]
    },
    {
      "cell_type": "code",
      "metadata": {
        "id": "h3XZh4QpDEeL"
      },
      "source": [
        "estimators = [('Rf',RandomForestClassifier(n_estimators=10, random_state=42)),('knn', KNeighborsClassifier(n_neighbors=3))]"
      ],
      "execution_count": null,
      "outputs": []
    },
    {
      "cell_type": "code",
      "metadata": {
        "colab": {
          "base_uri": "https://localhost:8080/"
        },
        "id": "qiy8-mbUDR0F",
        "outputId": "92d5b90a-de27-4e23-fe9a-f62ce3960510"
      },
      "source": [
        "SC = StackingClassifier(estimators=estimators, final_estimator=lg)\n",
        "SC.fit(X_train, y_train)"
      ],
      "execution_count": null,
      "outputs": [
        {
          "output_type": "execute_result",
          "data": {
            "text/plain": [
              "StackingClassifier(cv=None,\n",
              "                   estimators=[('Rf',\n",
              "                                RandomForestClassifier(bootstrap=True,\n",
              "                                                       ccp_alpha=0.0,\n",
              "                                                       class_weight=None,\n",
              "                                                       criterion='gini',\n",
              "                                                       max_depth=None,\n",
              "                                                       max_features='auto',\n",
              "                                                       max_leaf_nodes=None,\n",
              "                                                       max_samples=None,\n",
              "                                                       min_impurity_decrease=0.0,\n",
              "                                                       min_impurity_split=None,\n",
              "                                                       min_samples_leaf=1,\n",
              "                                                       min_samples_split=2,\n",
              "                                                       min_weight_fraction_leaf=0.0,\n",
              "                                                       n_estimators=10,\n",
              "                                                       n_jobs=None,...\n",
              "                                                     n_jobs=None, n_neighbors=3,\n",
              "                                                     p=2, weights='uniform'))],\n",
              "                   final_estimator=LogisticRegression(C=1.0, class_weight=None,\n",
              "                                                      dual=False,\n",
              "                                                      fit_intercept=True,\n",
              "                                                      intercept_scaling=1,\n",
              "                                                      l1_ratio=None,\n",
              "                                                      max_iter=100,\n",
              "                                                      multi_class='auto',\n",
              "                                                      n_jobs=None, penalty='l2',\n",
              "                                                      random_state=None,\n",
              "                                                      solver='lbfgs',\n",
              "                                                      tol=0.0001, verbose=0,\n",
              "                                                      warm_start=False),\n",
              "                   n_jobs=None, passthrough=False, stack_method='auto',\n",
              "                   verbose=0)"
            ]
          },
          "metadata": {
            "tags": []
          },
          "execution_count": 83
        }
      ]
    },
    {
      "cell_type": "code",
      "metadata": {
        "colab": {
          "base_uri": "https://localhost:8080/"
        },
        "id": "PHjoRvafDcqn",
        "outputId": "b2acf51b-95e8-4ce4-f0ed-792aa7dd68e1"
      },
      "source": [
        "print('test',classification_report(y_test,SC.predict(X_test)))\n",
        "print('train',classification_report(y_train,SC.predict(X_train)))"
      ],
      "execution_count": null,
      "outputs": [
        {
          "output_type": "stream",
          "text": [
            "test               precision    recall  f1-score   support\n",
            "\n",
            "           0       0.99      0.99      0.99      5007\n",
            "           1       0.97      0.98      0.97      1490\n",
            "\n",
            "    accuracy                           0.99      6497\n",
            "   macro avg       0.98      0.98      0.98      6497\n",
            "weighted avg       0.99      0.99      0.99      6497\n",
            "\n",
            "train               precision    recall  f1-score   support\n",
            "\n",
            "           0       1.00      1.00      1.00     20083\n",
            "           1       1.00      1.00      1.00      5904\n",
            "\n",
            "    accuracy                           1.00     25987\n",
            "   macro avg       1.00      1.00      1.00     25987\n",
            "weighted avg       1.00      1.00      1.00     25987\n",
            "\n"
          ],
          "name": "stdout"
        }
      ]
    },
    {
      "cell_type": "markdown",
      "metadata": {
        "id": "5MOtqTmsJHgr"
      },
      "source": [
        "##### Conclusion"
      ]
    },
    {
      "cell_type": "markdown",
      "metadata": {
        "id": "lGMLmTKxJe9P"
      },
      "source": [
        "The best model for this task is Random Forest"
      ]
    }
  ]
}